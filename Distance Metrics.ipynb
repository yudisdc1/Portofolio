{
  "nbformat": 4,
  "nbformat_minor": 0,
  "metadata": {
    "colab": {
      "provenance": [],
      "include_colab_link": true
    },
    "kernelspec": {
      "name": "python3",
      "display_name": "Python 3"
    },
    "language_info": {
      "name": "python"
    }
  },
  "cells": [
    {
      "cell_type": "markdown",
      "metadata": {
        "id": "view-in-github",
        "colab_type": "text"
      },
      "source": [
        "<a href=\"https://colab.research.google.com/github/yudisdc1/Portofolio/blob/main/Distance%20Metrics.ipynb\" target=\"_parent\"><img src=\"https://colab.research.google.com/assets/colab-badge.svg\" alt=\"Open In Colab\"/></a>"
      ]
    },
    {
      "cell_type": "markdown",
      "source": [
        "# Kelompok C\n",
        "Anggota Kelompok :\n",
        "\n",
        "\n",
        "- Elsye Dianita Siahaan (Statistika – 2106725015)\n",
        "- Kirono Dwi Saputro (Statistika – 2106656365)\n",
        "- Medifa Puspaningrum (Statistika – 2106634944)\n",
        "- Muhammad Hanif Pramudya Zamzami (Matematika – 2006487566)\n",
        "- Yudistira Dwi Cahya (Statistika – 2006530942)\n",
        "- Yumna Izzati (Statistika – 2106633191)\n",
        "\n",
        "\n",
        "\n"
      ],
      "metadata": {
        "id": "Y-XrWb1XwPn1"
      }
    },
    {
      "cell_type": "markdown",
      "source": [
        "<center><h1><strong><font color=\"blue\">Kasus</font></strong></h1></center>\n",
        "\n",
        "Diberikan program serial k-NN untuk memprediksi (test) data menggunakan jarak Euclidean seperti dibawah ini.\n",
        "Tugas anda adalah:\n",
        "\n",
        "1. Bandingkan performa model dengan 3 rumus jarak lainnya: [Manhattan, Chebysev, dan Canberra]\n",
        "2. Menggunakan Thread Programming dan-atau Pemrograman Parallel (10-fold CV seperti contoh serial) tingkatkan efisiensi waktu code dibawah. Gunakan 1 cell terpisah agar bisa di cek via \"terminal\" sebagaimana yang kita lakukan di kuliah."
      ],
      "metadata": {
        "id": "gWcSPaav3AOX"
      }
    },
    {
      "cell_type": "markdown",
      "source": [
        "## Import modul\n"
      ],
      "metadata": {
        "id": "2K-0vJcbwPzh"
      }
    },
    {
      "cell_type": "code",
      "source": [
        "import warnings; warnings.simplefilter('ignore')\n",
        "import pandas as pd, matplotlib.pyplot as plt, seaborn as sns, numpy as np\n",
        "import matplotlib.cm as cm, time\n",
        "from scipy.spatial import distance\n",
        "from sklearn.metrics import accuracy_score\n",
        "plt.style.use('bmh'); sns.set()\n",
        "\n",
        "\"Done\""
      ],
      "metadata": {
        "colab": {
          "base_uri": "https://localhost:8080/",
          "height": 36
        },
        "id": "evI_AdVnw3Nh",
        "outputId": "62a77f5a-d5eb-493f-8bbf-fa197e1c78ee"
      },
      "execution_count": null,
      "outputs": [
        {
          "output_type": "execute_result",
          "data": {
            "text/plain": [
              "'Done'"
            ],
            "application/vnd.google.colaboratory.intrinsic+json": {
              "type": "string"
            }
          },
          "metadata": {},
          "execution_count": 8
        }
      ]
    },
    {
      "cell_type": "code",
      "source": [
        "try: # Try Local Load\n",
        "    train = pd.read_csv('data/KompStat-HPDS-case-train.csv')\n",
        "    test = pd.read_csv('data/KompStat-HPDS-case-test.csv')\n",
        "except: # Download data from taudata GitHub (dijalankan di Google Colab)\n",
        "    !mkdir data\n",
        "    !wget -P data/ https://raw.githubusercontent.com/taudataid/eLearning/master/data/KompStat-HPDS-case-train.csv\n",
        "    !wget -P data/ https://raw.githubusercontent.com/taudataid/eLearning/master/data/KompStat-HPDS-case-test.csv\n",
        "    # Anda juga bisa unduh data dengan menggunakan URL diatas.\n",
        "    train = pd.read_csv('data/KompStat-HPDS-case-train.csv')\n",
        "    test = pd.read_csv('data/KompStat-HPDS-case-test.csv')\n",
        "print(train.shape, test.shape)\n",
        "print(train.info())\n",
        "train.head()"
      ],
      "metadata": {
        "colab": {
          "base_uri": "https://localhost:8080/",
          "height": 425
        },
        "id": "7jI-2JlBw6Ia",
        "outputId": "1846d3cd-3b9a-497f-eb53-47aa279a5161"
      },
      "execution_count": null,
      "outputs": [
        {
          "output_type": "stream",
          "name": "stdout",
          "text": [
            "(250, 3) (250, 3)\n",
            "<class 'pandas.core.frame.DataFrame'>\n",
            "RangeIndex: 250 entries, 0 to 249\n",
            "Data columns (total 3 columns):\n",
            " #   Column  Non-Null Count  Dtype  \n",
            "---  ------  --------------  -----  \n",
            " 0   x1      250 non-null    float64\n",
            " 1   x2      250 non-null    float64\n",
            " 2   y       250 non-null    int64  \n",
            "dtypes: float64(2), int64(1)\n",
            "memory usage: 6.0 KB\n",
            "None\n"
          ]
        },
        {
          "output_type": "execute_result",
          "data": {
            "text/plain": [
              "         x1        x2  y\n",
              "0 -0.835291  3.576690  0\n",
              "1  1.323524  4.229088  0\n",
              "2 -1.373580  2.729440  3\n",
              "3  0.852342  2.603071  0\n",
              "4  3.321460  2.198889  0"
            ],
            "text/html": [
              "\n",
              "  <div id=\"df-60f108a9-0844-4772-a790-070d007317ad\">\n",
              "    <div class=\"colab-df-container\">\n",
              "      <div>\n",
              "<style scoped>\n",
              "    .dataframe tbody tr th:only-of-type {\n",
              "        vertical-align: middle;\n",
              "    }\n",
              "\n",
              "    .dataframe tbody tr th {\n",
              "        vertical-align: top;\n",
              "    }\n",
              "\n",
              "    .dataframe thead th {\n",
              "        text-align: right;\n",
              "    }\n",
              "</style>\n",
              "<table border=\"1\" class=\"dataframe\">\n",
              "  <thead>\n",
              "    <tr style=\"text-align: right;\">\n",
              "      <th></th>\n",
              "      <th>x1</th>\n",
              "      <th>x2</th>\n",
              "      <th>y</th>\n",
              "    </tr>\n",
              "  </thead>\n",
              "  <tbody>\n",
              "    <tr>\n",
              "      <th>0</th>\n",
              "      <td>-0.835291</td>\n",
              "      <td>3.576690</td>\n",
              "      <td>0</td>\n",
              "    </tr>\n",
              "    <tr>\n",
              "      <th>1</th>\n",
              "      <td>1.323524</td>\n",
              "      <td>4.229088</td>\n",
              "      <td>0</td>\n",
              "    </tr>\n",
              "    <tr>\n",
              "      <th>2</th>\n",
              "      <td>-1.373580</td>\n",
              "      <td>2.729440</td>\n",
              "      <td>3</td>\n",
              "    </tr>\n",
              "    <tr>\n",
              "      <th>3</th>\n",
              "      <td>0.852342</td>\n",
              "      <td>2.603071</td>\n",
              "      <td>0</td>\n",
              "    </tr>\n",
              "    <tr>\n",
              "      <th>4</th>\n",
              "      <td>3.321460</td>\n",
              "      <td>2.198889</td>\n",
              "      <td>0</td>\n",
              "    </tr>\n",
              "  </tbody>\n",
              "</table>\n",
              "</div>\n",
              "      <button class=\"colab-df-convert\" onclick=\"convertToInteractive('df-60f108a9-0844-4772-a790-070d007317ad')\"\n",
              "              title=\"Convert this dataframe to an interactive table.\"\n",
              "              style=\"display:none;\">\n",
              "        \n",
              "  <svg xmlns=\"http://www.w3.org/2000/svg\" height=\"24px\"viewBox=\"0 0 24 24\"\n",
              "       width=\"24px\">\n",
              "    <path d=\"M0 0h24v24H0V0z\" fill=\"none\"/>\n",
              "    <path d=\"M18.56 5.44l.94 2.06.94-2.06 2.06-.94-2.06-.94-.94-2.06-.94 2.06-2.06.94zm-11 1L8.5 8.5l.94-2.06 2.06-.94-2.06-.94L8.5 2.5l-.94 2.06-2.06.94zm10 10l.94 2.06.94-2.06 2.06-.94-2.06-.94-.94-2.06-.94 2.06-2.06.94z\"/><path d=\"M17.41 7.96l-1.37-1.37c-.4-.4-.92-.59-1.43-.59-.52 0-1.04.2-1.43.59L10.3 9.45l-7.72 7.72c-.78.78-.78 2.05 0 2.83L4 21.41c.39.39.9.59 1.41.59.51 0 1.02-.2 1.41-.59l7.78-7.78 2.81-2.81c.8-.78.8-2.07 0-2.86zM5.41 20L4 18.59l7.72-7.72 1.47 1.35L5.41 20z\"/>\n",
              "  </svg>\n",
              "      </button>\n",
              "      \n",
              "  <style>\n",
              "    .colab-df-container {\n",
              "      display:flex;\n",
              "      flex-wrap:wrap;\n",
              "      gap: 12px;\n",
              "    }\n",
              "\n",
              "    .colab-df-convert {\n",
              "      background-color: #E8F0FE;\n",
              "      border: none;\n",
              "      border-radius: 50%;\n",
              "      cursor: pointer;\n",
              "      display: none;\n",
              "      fill: #1967D2;\n",
              "      height: 32px;\n",
              "      padding: 0 0 0 0;\n",
              "      width: 32px;\n",
              "    }\n",
              "\n",
              "    .colab-df-convert:hover {\n",
              "      background-color: #E2EBFA;\n",
              "      box-shadow: 0px 1px 2px rgba(60, 64, 67, 0.3), 0px 1px 3px 1px rgba(60, 64, 67, 0.15);\n",
              "      fill: #174EA6;\n",
              "    }\n",
              "\n",
              "    [theme=dark] .colab-df-convert {\n",
              "      background-color: #3B4455;\n",
              "      fill: #D2E3FC;\n",
              "    }\n",
              "\n",
              "    [theme=dark] .colab-df-convert:hover {\n",
              "      background-color: #434B5C;\n",
              "      box-shadow: 0px 1px 3px 1px rgba(0, 0, 0, 0.15);\n",
              "      filter: drop-shadow(0px 1px 2px rgba(0, 0, 0, 0.3));\n",
              "      fill: #FFFFFF;\n",
              "    }\n",
              "  </style>\n",
              "\n",
              "      <script>\n",
              "        const buttonEl =\n",
              "          document.querySelector('#df-60f108a9-0844-4772-a790-070d007317ad button.colab-df-convert');\n",
              "        buttonEl.style.display =\n",
              "          google.colab.kernel.accessAllowed ? 'block' : 'none';\n",
              "\n",
              "        async function convertToInteractive(key) {\n",
              "          const element = document.querySelector('#df-60f108a9-0844-4772-a790-070d007317ad');\n",
              "          const dataTable =\n",
              "            await google.colab.kernel.invokeFunction('convertToInteractive',\n",
              "                                                     [key], {});\n",
              "          if (!dataTable) return;\n",
              "\n",
              "          const docLinkHtml = 'Like what you see? Visit the ' +\n",
              "            '<a target=\"_blank\" href=https://colab.research.google.com/notebooks/data_table.ipynb>data table notebook</a>'\n",
              "            + ' to learn more about interactive tables.';\n",
              "          element.innerHTML = '';\n",
              "          dataTable['output_type'] = 'display_data';\n",
              "          await google.colab.output.renderOutput(dataTable, element);\n",
              "          const docLink = document.createElement('div');\n",
              "          docLink.innerHTML = docLinkHtml;\n",
              "          element.appendChild(docLink);\n",
              "        }\n",
              "      </script>\n",
              "    </div>\n",
              "  </div>\n",
              "  "
            ]
          },
          "metadata": {},
          "execution_count": 9
        }
      ]
    },
    {
      "cell_type": "code",
      "source": [
        "p = sns.scatterplot(x=train.x1, y=train.x2, hue = train.y)"
      ],
      "metadata": {
        "colab": {
          "base_uri": "https://localhost:8080/",
          "height": 285
        },
        "id": "F3oRkO5HxTbj",
        "outputId": "39a1a680-42f4-4ee8-f613-afb9a324e60f"
      },
      "execution_count": null,
      "outputs": [
        {
          "output_type": "display_data",
          "data": {
            "text/plain": [
              "<Figure size 432x288 with 1 Axes>"
            ],
            "image/png": "[encoded data removed]"
          },
          "metadata": {}
        }
      ]
    },
    {
      "cell_type": "code",
      "source": [
        "p= sns.countplot(x=train.y)"
      ],
      "metadata": {
        "colab": {
          "base_uri": "https://localhost:8080/",
          "height": 285
        },
        "id": "sGCLT5F_xU14",
        "outputId": "4b5f5d3d-8ef8-493f-fe16-ea52703b9914"
      },
      "execution_count": null,
      "outputs": [
        {
          "output_type": "display_data",
          "data": {
            "text/plain": [
              "<Figure size 432x288 with 1 Axes>"
            ],
            "image/png": "[encoded data removed]"
          },
          "metadata": {}
        }
      ]
    },
    {
      "cell_type": "code",
      "source": [
        "def getNeighbour(data, observasi, k):\n",
        "    data['distance'] = 0.0\n",
        "    for idx, dt in data.iterrows():\n",
        "        data.at[idx, 'distance'] = distance.minkowski(dt[['x1','x2']], observasi[['x1','x2']], 2)\n",
        "    data.sort_values(by=['distance'], inplace=True, ascending=True)\n",
        "    data = data.head(k)\n",
        "    return data"
      ],
      "metadata": {
        "id": "Hl_1jcfBxZtJ"
      },
      "execution_count": null,
      "outputs": []
    },
    {
      "cell_type": "code",
      "source": [
        "# Serial Code\n",
        "k = 5\n",
        "cross_validasi = 10\n",
        "hasil = {'waktu':[], 'label':[]}\n",
        "akurasi = []\n",
        "for cv in range(cross_validasi):\n",
        "    mulai = time.time()\n",
        "    prediksi = []\n",
        "    for i, d in test.iterrows():\n",
        "        tetangga = getNeighbour(train, d, k)\n",
        "        prediksi.append(tetangga.y.mode().values[0])\n",
        "    waktu = time.time() - mulai\n",
        "    akurasi.append(accuracy_score(test.y.tolist(), prediksi))\n",
        "    hasil['waktu'].append(waktu)\n",
        "    hasil['label'].append('serial')\n",
        "\n",
        "print(\"Rata-rata akurasi = {}, Variansi Akurasi = {}\".format(np.mean(akurasi), np.var(akurasi)), flush=True)\n",
        "# Catatan: karena \"test data\" tidak berubah di setiap iterasi, maka akurasi tidak perlu masuk ke variabel \"hasil\"\n",
        "hasil = pd.DataFrame(hasil)\n",
        "hasil.head()"
      ],
      "metadata": {
        "id": "AeApkSlMxbU7",
        "colab": {
          "base_uri": "https://localhost:8080/",
          "height": 224
        },
        "outputId": "529466b6-7dfe-43b7-887c-6a044bab5ecb"
      },
      "execution_count": null,
      "outputs": [
        {
          "output_type": "stream",
          "name": "stdout",
          "text": [
            "Rata-rata akurasi = 0.716, Variansi Akurasi = 0.0\n"
          ]
        },
        {
          "output_type": "execute_result",
          "data": {
            "text/plain": [
              "       waktu   label\n",
              "0  67.059685  serial\n",
              "1  60.126693  serial\n",
              "2  54.913540  serial\n",
              "3  54.256702  serial\n",
              "4  55.893432  serial"
            ],
            "text/html": [
              "\n",
              "  <div id=\"df-58f3622c-7f0f-422d-8249-a3b797308a5b\">\n",
              "    <div class=\"colab-df-container\">\n",
              "      <div>\n",
              "<style scoped>\n",
              "    .dataframe tbody tr th:only-of-type {\n",
              "        vertical-align: middle;\n",
              "    }\n",
              "\n",
              "    .dataframe tbody tr th {\n",
              "        vertical-align: top;\n",
              "    }\n",
              "\n",
              "    .dataframe thead th {\n",
              "        text-align: right;\n",
              "    }\n",
              "</style>\n",
              "<table border=\"1\" class=\"dataframe\">\n",
              "  <thead>\n",
              "    <tr style=\"text-align: right;\">\n",
              "      <th></th>\n",
              "      <th>waktu</th>\n",
              "      <th>label</th>\n",
              "    </tr>\n",
              "  </thead>\n",
              "  <tbody>\n",
              "    <tr>\n",
              "      <th>0</th>\n",
              "      <td>67.059685</td>\n",
              "      <td>serial</td>\n",
              "    </tr>\n",
              "    <tr>\n",
              "      <th>1</th>\n",
              "      <td>60.126693</td>\n",
              "      <td>serial</td>\n",
              "    </tr>\n",
              "    <tr>\n",
              "      <th>2</th>\n",
              "      <td>54.913540</td>\n",
              "      <td>serial</td>\n",
              "    </tr>\n",
              "    <tr>\n",
              "      <th>3</th>\n",
              "      <td>54.256702</td>\n",
              "      <td>serial</td>\n",
              "    </tr>\n",
              "    <tr>\n",
              "      <th>4</th>\n",
              "      <td>55.893432</td>\n",
              "      <td>serial</td>\n",
              "    </tr>\n",
              "  </tbody>\n",
              "</table>\n",
              "</div>\n",
              "      <button class=\"colab-df-convert\" onclick=\"convertToInteractive('df-58f3622c-7f0f-422d-8249-a3b797308a5b')\"\n",
              "              title=\"Convert this dataframe to an interactive table.\"\n",
              "              style=\"display:none;\">\n",
              "        \n",
              "  <svg xmlns=\"http://www.w3.org/2000/svg\" height=\"24px\"viewBox=\"0 0 24 24\"\n",
              "       width=\"24px\">\n",
              "    <path d=\"M0 0h24v24H0V0z\" fill=\"none\"/>\n",
              "    <path d=\"M18.56 5.44l.94 2.06.94-2.06 2.06-.94-2.06-.94-.94-2.06-.94 2.06-2.06.94zm-11 1L8.5 8.5l.94-2.06 2.06-.94-2.06-.94L8.5 2.5l-.94 2.06-2.06.94zm10 10l.94 2.06.94-2.06 2.06-.94-2.06-.94-.94-2.06-.94 2.06-2.06.94z\"/><path d=\"M17.41 7.96l-1.37-1.37c-.4-.4-.92-.59-1.43-.59-.52 0-1.04.2-1.43.59L10.3 9.45l-7.72 7.72c-.78.78-.78 2.05 0 2.83L4 21.41c.39.39.9.59 1.41.59.51 0 1.02-.2 1.41-.59l7.78-7.78 2.81-2.81c.8-.78.8-2.07 0-2.86zM5.41 20L4 18.59l7.72-7.72 1.47 1.35L5.41 20z\"/>\n",
              "  </svg>\n",
              "      </button>\n",
              "      \n",
              "  <style>\n",
              "    .colab-df-container {\n",
              "      display:flex;\n",
              "      flex-wrap:wrap;\n",
              "      gap: 12px;\n",
              "    }\n",
              "\n",
              "    .colab-df-convert {\n",
              "      background-color: #E8F0FE;\n",
              "      border: none;\n",
              "      border-radius: 50%;\n",
              "      cursor: pointer;\n",
              "      display: none;\n",
              "      fill: #1967D2;\n",
              "      height: 32px;\n",
              "      padding: 0 0 0 0;\n",
              "      width: 32px;\n",
              "    }\n",
              "\n",
              "    .colab-df-convert:hover {\n",
              "      background-color: #E2EBFA;\n",
              "      box-shadow: 0px 1px 2px rgba(60, 64, 67, 0.3), 0px 1px 3px 1px rgba(60, 64, 67, 0.15);\n",
              "      fill: #174EA6;\n",
              "    }\n",
              "\n",
              "    [theme=dark] .colab-df-convert {\n",
              "      background-color: #3B4455;\n",
              "      fill: #D2E3FC;\n",
              "    }\n",
              "\n",
              "    [theme=dark] .colab-df-convert:hover {\n",
              "      background-color: #434B5C;\n",
              "      box-shadow: 0px 1px 3px 1px rgba(0, 0, 0, 0.15);\n",
              "      filter: drop-shadow(0px 1px 2px rgba(0, 0, 0, 0.3));\n",
              "      fill: #FFFFFF;\n",
              "    }\n",
              "  </style>\n",
              "\n",
              "      <script>\n",
              "        const buttonEl =\n",
              "          document.querySelector('#df-58f3622c-7f0f-422d-8249-a3b797308a5b button.colab-df-convert');\n",
              "        buttonEl.style.display =\n",
              "          google.colab.kernel.accessAllowed ? 'block' : 'none';\n",
              "\n",
              "        async function convertToInteractive(key) {\n",
              "          const element = document.querySelector('#df-58f3622c-7f0f-422d-8249-a3b797308a5b');\n",
              "          const dataTable =\n",
              "            await google.colab.kernel.invokeFunction('convertToInteractive',\n",
              "                                                     [key], {});\n",
              "          if (!dataTable) return;\n",
              "\n",
              "          const docLinkHtml = 'Like what you see? Visit the ' +\n",
              "            '<a target=\"_blank\" href=https://colab.research.google.com/notebooks/data_table.ipynb>data table notebook</a>'\n",
              "            + ' to learn more about interactive tables.';\n",
              "          element.innerHTML = '';\n",
              "          dataTable['output_type'] = 'display_data';\n",
              "          await google.colab.output.renderOutput(dataTable, element);\n",
              "          const docLink = document.createElement('div');\n",
              "          docLink.innerHTML = docLinkHtml;\n",
              "          element.appendChild(docLink);\n",
              "        }\n",
              "      </script>\n",
              "    </div>\n",
              "  </div>\n",
              "  "
            ]
          },
          "metadata": {},
          "execution_count": 13
        }
      ]
    },
    {
      "cell_type": "code",
      "source": [
        "p = sns.boxplot(y=\"waktu\", x=\"label\", data=hasil)"
      ],
      "metadata": {
        "colab": {
          "base_uri": "https://localhost:8080/",
          "height": 285
        },
        "id": "7DTgo6_Kxfu1",
        "outputId": "3c7e261b-9599-4ca0-e516-1ef69a3efcd9"
      },
      "execution_count": null,
      "outputs": [
        {
          "output_type": "display_data",
          "data": {
            "text/plain": [
              "<Figure size 432x288 with 1 Axes>"
            ],
            "image/png": "[encoded data removed]"
          },
          "metadata": {}
        }
      ]
    },
    {
      "cell_type": "markdown",
      "source": [
        "# **Chebyshev**"
      ],
      "metadata": {
        "id": "tm0FgrZ2pACN"
      }
    },
    {
      "cell_type": "code",
      "source": [
        "def getNeighbour_chebyshev(data, observasi, k):\n",
        "    data['distance'] = 0.0\n",
        "    for idx, dt in data.iterrows():\n",
        "        data.at[idx, 'distance'] = distance.chebyshev(dt[['x1','x2']], observasi[['x1','x2']])\n",
        "    data.sort_values(by=['distance'], inplace=True, ascending=True)\n",
        "    data = data.head(k)\n",
        "    return data"
      ],
      "metadata": {
        "id": "eqp0FWRypMFL"
      },
      "execution_count": null,
      "outputs": []
    },
    {
      "cell_type": "code",
      "source": [
        "# Serial Code\n",
        "k = 5\n",
        "cross_validasi = 10\n",
        "hasil = {'waktu':[], 'label':[]}\n",
        "akurasi = []\n",
        "for cv in range(cross_validasi):\n",
        "    mulai = time.time()\n",
        "    prediksi = []\n",
        "    for i, d in test.iterrows():\n",
        "        tetangga = getNeighbour_chebyshev(train, d, k)\n",
        "        prediksi.append(tetangga.y.mode().values[0])\n",
        "    waktu = time.time() - mulai\n",
        "    akurasi.append(accuracy_score(test.y.tolist(), prediksi))\n",
        "    hasil['waktu'].append(waktu)\n",
        "    hasil['label'].append('serial')\n",
        "\n",
        "print(\"Rata-rata akurasi = {}, Variansi Akurasi = {}\".format(np.mean(akurasi), np.var(akurasi)), flush=True)\n",
        "# Catatan: karena \"test data\" tidak berubah di setiap iterasi, maka akurasi tidak perlu masuk ke variabel \"hasil\"\n",
        "hasil = pd.DataFrame(hasil)\n",
        "hasil.head()"
      ],
      "metadata": {
        "id": "cJ0PLaoipQrG",
        "colab": {
          "base_uri": "https://localhost:8080/",
          "height": 224
        },
        "outputId": "a2c3de54-ec93-440e-8f53-7d857143cc2b"
      },
      "execution_count": null,
      "outputs": [
        {
          "output_type": "stream",
          "name": "stdout",
          "text": [
            "Rata-rata akurasi = 0.736, Variansi Akurasi = 0.0\n"
          ]
        },
        {
          "output_type": "execute_result",
          "data": {
            "text/plain": [
              "       waktu   label\n",
              "0  54.588079  serial\n",
              "1  54.717190  serial\n",
              "2  53.859364  serial\n",
              "3  53.475361  serial\n",
              "4  54.588940  serial"
            ],
            "text/html": [
              "\n",
              "  <div id=\"df-d9ddb83f-ffce-43d4-a339-d104e8b7bcdd\">\n",
              "    <div class=\"colab-df-container\">\n",
              "      <div>\n",
              "<style scoped>\n",
              "    .dataframe tbody tr th:only-of-type {\n",
              "        vertical-align: middle;\n",
              "    }\n",
              "\n",
              "    .dataframe tbody tr th {\n",
              "        vertical-align: top;\n",
              "    }\n",
              "\n",
              "    .dataframe thead th {\n",
              "        text-align: right;\n",
              "    }\n",
              "</style>\n",
              "<table border=\"1\" class=\"dataframe\">\n",
              "  <thead>\n",
              "    <tr style=\"text-align: right;\">\n",
              "      <th></th>\n",
              "      <th>waktu</th>\n",
              "      <th>label</th>\n",
              "    </tr>\n",
              "  </thead>\n",
              "  <tbody>\n",
              "    <tr>\n",
              "      <th>0</th>\n",
              "      <td>54.588079</td>\n",
              "      <td>serial</td>\n",
              "    </tr>\n",
              "    <tr>\n",
              "      <th>1</th>\n",
              "      <td>54.717190</td>\n",
              "      <td>serial</td>\n",
              "    </tr>\n",
              "    <tr>\n",
              "      <th>2</th>\n",
              "      <td>53.859364</td>\n",
              "      <td>serial</td>\n",
              "    </tr>\n",
              "    <tr>\n",
              "      <th>3</th>\n",
              "      <td>53.475361</td>\n",
              "      <td>serial</td>\n",
              "    </tr>\n",
              "    <tr>\n",
              "      <th>4</th>\n",
              "      <td>54.588940</td>\n",
              "      <td>serial</td>\n",
              "    </tr>\n",
              "  </tbody>\n",
              "</table>\n",
              "</div>\n",
              "      <button class=\"colab-df-convert\" onclick=\"convertToInteractive('df-d9ddb83f-ffce-43d4-a339-d104e8b7bcdd')\"\n",
              "              title=\"Convert this dataframe to an interactive table.\"\n",
              "              style=\"display:none;\">\n",
              "        \n",
              "  <svg xmlns=\"http://www.w3.org/2000/svg\" height=\"24px\"viewBox=\"0 0 24 24\"\n",
              "       width=\"24px\">\n",
              "    <path d=\"M0 0h24v24H0V0z\" fill=\"none\"/>\n",
              "    <path d=\"M18.56 5.44l.94 2.06.94-2.06 2.06-.94-2.06-.94-.94-2.06-.94 2.06-2.06.94zm-11 1L8.5 8.5l.94-2.06 2.06-.94-2.06-.94L8.5 2.5l-.94 2.06-2.06.94zm10 10l.94 2.06.94-2.06 2.06-.94-2.06-.94-.94-2.06-.94 2.06-2.06.94z\"/><path d=\"M17.41 7.96l-1.37-1.37c-.4-.4-.92-.59-1.43-.59-.52 0-1.04.2-1.43.59L10.3 9.45l-7.72 7.72c-.78.78-.78 2.05 0 2.83L4 21.41c.39.39.9.59 1.41.59.51 0 1.02-.2 1.41-.59l7.78-7.78 2.81-2.81c.8-.78.8-2.07 0-2.86zM5.41 20L4 18.59l7.72-7.72 1.47 1.35L5.41 20z\"/>\n",
              "  </svg>\n",
              "      </button>\n",
              "      \n",
              "  <style>\n",
              "    .colab-df-container {\n",
              "      display:flex;\n",
              "      flex-wrap:wrap;\n",
              "      gap: 12px;\n",
              "    }\n",
              "\n",
              "    .colab-df-convert {\n",
              "      background-color: #E8F0FE;\n",
              "      border: none;\n",
              "      border-radius: 50%;\n",
              "      cursor: pointer;\n",
              "      display: none;\n",
              "      fill: #1967D2;\n",
              "      height: 32px;\n",
              "      padding: 0 0 0 0;\n",
              "      width: 32px;\n",
              "    }\n",
              "\n",
              "    .colab-df-convert:hover {\n",
              "      background-color: #E2EBFA;\n",
              "      box-shadow: 0px 1px 2px rgba(60, 64, 67, 0.3), 0px 1px 3px 1px rgba(60, 64, 67, 0.15);\n",
              "      fill: #174EA6;\n",
              "    }\n",
              "\n",
              "    [theme=dark] .colab-df-convert {\n",
              "      background-color: #3B4455;\n",
              "      fill: #D2E3FC;\n",
              "    }\n",
              "\n",
              "    [theme=dark] .colab-df-convert:hover {\n",
              "      background-color: #434B5C;\n",
              "      box-shadow: 0px 1px 3px 1px rgba(0, 0, 0, 0.15);\n",
              "      filter: drop-shadow(0px 1px 2px rgba(0, 0, 0, 0.3));\n",
              "      fill: #FFFFFF;\n",
              "    }\n",
              "  </style>\n",
              "\n",
              "      <script>\n",
              "        const buttonEl =\n",
              "          document.querySelector('#df-d9ddb83f-ffce-43d4-a339-d104e8b7bcdd button.colab-df-convert');\n",
              "        buttonEl.style.display =\n",
              "          google.colab.kernel.accessAllowed ? 'block' : 'none';\n",
              "\n",
              "        async function convertToInteractive(key) {\n",
              "          const element = document.querySelector('#df-d9ddb83f-ffce-43d4-a339-d104e8b7bcdd');\n",
              "          const dataTable =\n",
              "            await google.colab.kernel.invokeFunction('convertToInteractive',\n",
              "                                                     [key], {});\n",
              "          if (!dataTable) return;\n",
              "\n",
              "          const docLinkHtml = 'Like what you see? Visit the ' +\n",
              "            '<a target=\"_blank\" href=https://colab.research.google.com/notebooks/data_table.ipynb>data table notebook</a>'\n",
              "            + ' to learn more about interactive tables.';\n",
              "          element.innerHTML = '';\n",
              "          dataTable['output_type'] = 'display_data';\n",
              "          await google.colab.output.renderOutput(dataTable, element);\n",
              "          const docLink = document.createElement('div');\n",
              "          docLink.innerHTML = docLinkHtml;\n",
              "          element.appendChild(docLink);\n",
              "        }\n",
              "      </script>\n",
              "    </div>\n",
              "  </div>\n",
              "  "
            ]
          },
          "metadata": {},
          "execution_count": 24
        }
      ]
    },
    {
      "cell_type": "code",
      "source": [
        "p = sns.boxplot(y=\"waktu\", x=\"label\", data=hasil)"
      ],
      "metadata": {
        "id": "43Lg8Y_bpV3v",
        "colab": {
          "base_uri": "https://localhost:8080/"
        },
        "outputId": "48cdf72e-773e-4dab-c015-db3ade010e5c"
      },
      "execution_count": null,
      "outputs": [
        {
          "output_type": "display_data",
          "data": {
            "text/plain": [
              "<Figure size 432x288 with 1 Axes>"
            ],
            "image/png": "[encoded data removed]"
          },
          "metadata": {}
        }
      ]
    },
    {
      "cell_type": "markdown",
      "source": [
        "# **Canberra**"
      ],
      "metadata": {
        "id": "dWez4WTfoM1J"
      }
    },
    {
      "cell_type": "code",
      "source": [
        "def getNeighbour_canberra(data, observasi, k):\n",
        "    data['distance'] = 0.0\n",
        "    for idx, dt in data.iterrows():\n",
        "        data.at[idx, 'distance'] = distance.canberra(dt[['x1','x2']], observasi[['x1','x2']])\n",
        "    data.sort_values(by=['distance'], inplace=True, ascending=True)\n",
        "    data = data.head(k)\n",
        "    return data"
      ],
      "metadata": {
        "id": "x2ttpi8eocy0"
      },
      "execution_count": null,
      "outputs": []
    },
    {
      "cell_type": "code",
      "source": [
        "# Serial Code\n",
        "k = 5\n",
        "cross_validasi = 10\n",
        "hasil = {'waktu':[], 'label':[]}\n",
        "akurasi = []\n",
        "for cv in range(cross_validasi):\n",
        "    mulai = time.time()\n",
        "    prediksi = []\n",
        "    for i, d in test.iterrows():\n",
        "        tetangga = getNeighbour_canberra(train, d, k)\n",
        "        prediksi.append(tetangga.y.mode().values[0])\n",
        "    waktu = time.time() - mulai\n",
        "    akurasi.append(accuracy_score(test.y.tolist(), prediksi))\n",
        "    hasil['waktu'].append(waktu)\n",
        "    hasil['label'].append('serial')\n",
        "\n",
        "print(\"Rata-rata akurasi = {}, Variansi Akurasi = {}\".format(np.mean(akurasi), np.var(akurasi)), flush=True)\n",
        "# Catatan: karena \"test data\" tidak berubah di setiap iterasi, maka akurasi tidak perlu masuk ke variabel \"hasil\"\n",
        "hasil = pd.DataFrame(hasil)\n",
        "hasil.head()"
      ],
      "metadata": {
        "id": "NgZn6wjooiP7",
        "colab": {
          "base_uri": "https://localhost:8080/",
          "height": 224
        },
        "outputId": "cc6f6e5e-98ad-4435-e8f9-25b5cbb65474"
      },
      "execution_count": null,
      "outputs": [
        {
          "output_type": "stream",
          "name": "stdout",
          "text": [
            "Rata-rata akurasi = 0.712, Variansi Akurasi = 0.0\n"
          ]
        },
        {
          "output_type": "execute_result",
          "data": {
            "text/plain": [
              "       waktu   label\n",
              "0  60.564088  serial\n",
              "1  59.612310  serial\n",
              "2  59.776500  serial\n",
              "3  60.606184  serial\n",
              "4  59.871587  serial"
            ],
            "text/html": [
              "\n",
              "  <div id=\"df-af93ed50-5636-429f-a3e9-4f2cce87a972\">\n",
              "    <div class=\"colab-df-container\">\n",
              "      <div>\n",
              "<style scoped>\n",
              "    .dataframe tbody tr th:only-of-type {\n",
              "        vertical-align: middle;\n",
              "    }\n",
              "\n",
              "    .dataframe tbody tr th {\n",
              "        vertical-align: top;\n",
              "    }\n",
              "\n",
              "    .dataframe thead th {\n",
              "        text-align: right;\n",
              "    }\n",
              "</style>\n",
              "<table border=\"1\" class=\"dataframe\">\n",
              "  <thead>\n",
              "    <tr style=\"text-align: right;\">\n",
              "      <th></th>\n",
              "      <th>waktu</th>\n",
              "      <th>label</th>\n",
              "    </tr>\n",
              "  </thead>\n",
              "  <tbody>\n",
              "    <tr>\n",
              "      <th>0</th>\n",
              "      <td>60.564088</td>\n",
              "      <td>serial</td>\n",
              "    </tr>\n",
              "    <tr>\n",
              "      <th>1</th>\n",
              "      <td>59.612310</td>\n",
              "      <td>serial</td>\n",
              "    </tr>\n",
              "    <tr>\n",
              "      <th>2</th>\n",
              "      <td>59.776500</td>\n",
              "      <td>serial</td>\n",
              "    </tr>\n",
              "    <tr>\n",
              "      <th>3</th>\n",
              "      <td>60.606184</td>\n",
              "      <td>serial</td>\n",
              "    </tr>\n",
              "    <tr>\n",
              "      <th>4</th>\n",
              "      <td>59.871587</td>\n",
              "      <td>serial</td>\n",
              "    </tr>\n",
              "  </tbody>\n",
              "</table>\n",
              "</div>\n",
              "      <button class=\"colab-df-convert\" onclick=\"convertToInteractive('df-af93ed50-5636-429f-a3e9-4f2cce87a972')\"\n",
              "              title=\"Convert this dataframe to an interactive table.\"\n",
              "              style=\"display:none;\">\n",
              "        \n",
              "  <svg xmlns=\"http://www.w3.org/2000/svg\" height=\"24px\"viewBox=\"0 0 24 24\"\n",
              "       width=\"24px\">\n",
              "    <path d=\"M0 0h24v24H0V0z\" fill=\"none\"/>\n",
              "    <path d=\"M18.56 5.44l.94 2.06.94-2.06 2.06-.94-2.06-.94-.94-2.06-.94 2.06-2.06.94zm-11 1L8.5 8.5l.94-2.06 2.06-.94-2.06-.94L8.5 2.5l-.94 2.06-2.06.94zm10 10l.94 2.06.94-2.06 2.06-.94-2.06-.94-.94-2.06-.94 2.06-2.06.94z\"/><path d=\"M17.41 7.96l-1.37-1.37c-.4-.4-.92-.59-1.43-.59-.52 0-1.04.2-1.43.59L10.3 9.45l-7.72 7.72c-.78.78-.78 2.05 0 2.83L4 21.41c.39.39.9.59 1.41.59.51 0 1.02-.2 1.41-.59l7.78-7.78 2.81-2.81c.8-.78.8-2.07 0-2.86zM5.41 20L4 18.59l7.72-7.72 1.47 1.35L5.41 20z\"/>\n",
              "  </svg>\n",
              "      </button>\n",
              "      \n",
              "  <style>\n",
              "    .colab-df-container {\n",
              "      display:flex;\n",
              "      flex-wrap:wrap;\n",
              "      gap: 12px;\n",
              "    }\n",
              "\n",
              "    .colab-df-convert {\n",
              "      background-color: #E8F0FE;\n",
              "      border: none;\n",
              "      border-radius: 50%;\n",
              "      cursor: pointer;\n",
              "      display: none;\n",
              "      fill: #1967D2;\n",
              "      height: 32px;\n",
              "      padding: 0 0 0 0;\n",
              "      width: 32px;\n",
              "    }\n",
              "\n",
              "    .colab-df-convert:hover {\n",
              "      background-color: #E2EBFA;\n",
              "      box-shadow: 0px 1px 2px rgba(60, 64, 67, 0.3), 0px 1px 3px 1px rgba(60, 64, 67, 0.15);\n",
              "      fill: #174EA6;\n",
              "    }\n",
              "\n",
              "    [theme=dark] .colab-df-convert {\n",
              "      background-color: #3B4455;\n",
              "      fill: #D2E3FC;\n",
              "    }\n",
              "\n",
              "    [theme=dark] .colab-df-convert:hover {\n",
              "      background-color: #434B5C;\n",
              "      box-shadow: 0px 1px 3px 1px rgba(0, 0, 0, 0.15);\n",
              "      filter: drop-shadow(0px 1px 2px rgba(0, 0, 0, 0.3));\n",
              "      fill: #FFFFFF;\n",
              "    }\n",
              "  </style>\n",
              "\n",
              "      <script>\n",
              "        const buttonEl =\n",
              "          document.querySelector('#df-af93ed50-5636-429f-a3e9-4f2cce87a972 button.colab-df-convert');\n",
              "        buttonEl.style.display =\n",
              "          google.colab.kernel.accessAllowed ? 'block' : 'none';\n",
              "\n",
              "        async function convertToInteractive(key) {\n",
              "          const element = document.querySelector('#df-af93ed50-5636-429f-a3e9-4f2cce87a972');\n",
              "          const dataTable =\n",
              "            await google.colab.kernel.invokeFunction('convertToInteractive',\n",
              "                                                     [key], {});\n",
              "          if (!dataTable) return;\n",
              "\n",
              "          const docLinkHtml = 'Like what you see? Visit the ' +\n",
              "            '<a target=\"_blank\" href=https://colab.research.google.com/notebooks/data_table.ipynb>data table notebook</a>'\n",
              "            + ' to learn more about interactive tables.';\n",
              "          element.innerHTML = '';\n",
              "          dataTable['output_type'] = 'display_data';\n",
              "          await google.colab.output.renderOutput(dataTable, element);\n",
              "          const docLink = document.createElement('div');\n",
              "          docLink.innerHTML = docLinkHtml;\n",
              "          element.appendChild(docLink);\n",
              "        }\n",
              "      </script>\n",
              "    </div>\n",
              "  </div>\n",
              "  "
            ]
          },
          "metadata": {},
          "execution_count": 26
        }
      ]
    },
    {
      "cell_type": "code",
      "source": [
        "p = sns.boxplot(y=\"waktu\", x=\"label\", data=hasil)"
      ],
      "metadata": {
        "id": "KN68QwhWooA4",
        "colab": {
          "base_uri": "https://localhost:8080/",
          "height": 285
        },
        "outputId": "57159648-e22d-4f9a-c6c6-3d722b63b23d"
      },
      "execution_count": null,
      "outputs": [
        {
          "output_type": "display_data",
          "data": {
            "text/plain": [
              "<Figure size 432x288 with 1 Axes>"
            ],
            "image/png": "[encoded data removed]"
          },
          "metadata": {}
        }
      ]
    },
    {
      "cell_type": "markdown",
      "source": [
        "## **Manhattan**"
      ],
      "metadata": {
        "id": "hH4Yo59mjHdl"
      }
    },
    {
      "cell_type": "code",
      "source": [
        "def getNeighbour_Manhattan(data, observasi, k):\n",
        "    data['distance'] = 0.0\n",
        "    for idx, dt in data.iterrows():\n",
        "        data.at[idx, 'distance'] = distance.cityblock(dt[['x1','x2']], observasi[['x1','x2']], 2)\n",
        "    data.sort_values(by=['distance'], inplace=True, ascending=True)\n",
        "    data = data.head(k)\n",
        "    return data"
      ],
      "metadata": {
        "id": "RVXkH8iTjLYW"
      },
      "execution_count": null,
      "outputs": []
    },
    {
      "cell_type": "code",
      "source": [
        "# Serial Code\n",
        "k = 5\n",
        "cross_validasi = 10\n",
        "hasil = {'waktu':[], 'label':[]}\n",
        "akurasi = []\n",
        "for cv in range(cross_validasi):\n",
        "    mulai = time.time()\n",
        "    prediksi = []\n",
        "    for i, d in test.iterrows():\n",
        "        tetangga = getNeighbour_Manhattan(train, d, k)\n",
        "        prediksi.append(tetangga.y.mode().values[0])\n",
        "    waktu = time.time() - mulai\n",
        "    akurasi.append(accuracy_score(test.y.tolist(), prediksi))\n",
        "    hasil['waktu'].append(waktu)\n",
        "    hasil['label'].append('serial')\n",
        "\n",
        "print(\"Rata-rata akurasi = {}, Variansi Akurasi = {}\".format(np.mean(akurasi), np.var(akurasi)), flush=True)\n",
        "# Catatan: karena \"test data\" tidak berubah di setiap iterasi, maka akurasi tidak perlu masuk ke variabel \"hasil\"\n",
        "hasil = pd.DataFrame(hasil)\n",
        "hasil.head()"
      ],
      "metadata": {
        "id": "aoNS3q51jS3S",
        "colab": {
          "base_uri": "https://localhost:8080/",
          "height": 224
        },
        "outputId": "aa418331-5380-4c4e-c795-08fa6bf33468"
      },
      "execution_count": null,
      "outputs": [
        {
          "output_type": "stream",
          "name": "stdout",
          "text": [
            "Rata-rata akurasi = 0.708, Variansi Akurasi = 0.0\n"
          ]
        },
        {
          "output_type": "execute_result",
          "data": {
            "text/plain": [
              "       waktu   label\n",
              "0  57.411471  serial\n",
              "1  61.677464  serial\n",
              "2  64.178248  serial\n",
              "3  62.458316  serial\n",
              "4  63.049054  serial"
            ],
            "text/html": [
              "\n",
              "  <div id=\"df-94a3de85-149f-47f7-8f44-83ef3772e713\">\n",
              "    <div class=\"colab-df-container\">\n",
              "      <div>\n",
              "<style scoped>\n",
              "    .dataframe tbody tr th:only-of-type {\n",
              "        vertical-align: middle;\n",
              "    }\n",
              "\n",
              "    .dataframe tbody tr th {\n",
              "        vertical-align: top;\n",
              "    }\n",
              "\n",
              "    .dataframe thead th {\n",
              "        text-align: right;\n",
              "    }\n",
              "</style>\n",
              "<table border=\"1\" class=\"dataframe\">\n",
              "  <thead>\n",
              "    <tr style=\"text-align: right;\">\n",
              "      <th></th>\n",
              "      <th>waktu</th>\n",
              "      <th>label</th>\n",
              "    </tr>\n",
              "  </thead>\n",
              "  <tbody>\n",
              "    <tr>\n",
              "      <th>0</th>\n",
              "      <td>57.411471</td>\n",
              "      <td>serial</td>\n",
              "    </tr>\n",
              "    <tr>\n",
              "      <th>1</th>\n",
              "      <td>61.677464</td>\n",
              "      <td>serial</td>\n",
              "    </tr>\n",
              "    <tr>\n",
              "      <th>2</th>\n",
              "      <td>64.178248</td>\n",
              "      <td>serial</td>\n",
              "    </tr>\n",
              "    <tr>\n",
              "      <th>3</th>\n",
              "      <td>62.458316</td>\n",
              "      <td>serial</td>\n",
              "    </tr>\n",
              "    <tr>\n",
              "      <th>4</th>\n",
              "      <td>63.049054</td>\n",
              "      <td>serial</td>\n",
              "    </tr>\n",
              "  </tbody>\n",
              "</table>\n",
              "</div>\n",
              "      <button class=\"colab-df-convert\" onclick=\"convertToInteractive('df-94a3de85-149f-47f7-8f44-83ef3772e713')\"\n",
              "              title=\"Convert this dataframe to an interactive table.\"\n",
              "              style=\"display:none;\">\n",
              "        \n",
              "  <svg xmlns=\"http://www.w3.org/2000/svg\" height=\"24px\"viewBox=\"0 0 24 24\"\n",
              "       width=\"24px\">\n",
              "    <path d=\"M0 0h24v24H0V0z\" fill=\"none\"/>\n",
              "    <path d=\"M18.56 5.44l.94 2.06.94-2.06 2.06-.94-2.06-.94-.94-2.06-.94 2.06-2.06.94zm-11 1L8.5 8.5l.94-2.06 2.06-.94-2.06-.94L8.5 2.5l-.94 2.06-2.06.94zm10 10l.94 2.06.94-2.06 2.06-.94-2.06-.94-.94-2.06-.94 2.06-2.06.94z\"/><path d=\"M17.41 7.96l-1.37-1.37c-.4-.4-.92-.59-1.43-.59-.52 0-1.04.2-1.43.59L10.3 9.45l-7.72 7.72c-.78.78-.78 2.05 0 2.83L4 21.41c.39.39.9.59 1.41.59.51 0 1.02-.2 1.41-.59l7.78-7.78 2.81-2.81c.8-.78.8-2.07 0-2.86zM5.41 20L4 18.59l7.72-7.72 1.47 1.35L5.41 20z\"/>\n",
              "  </svg>\n",
              "      </button>\n",
              "      \n",
              "  <style>\n",
              "    .colab-df-container {\n",
              "      display:flex;\n",
              "      flex-wrap:wrap;\n",
              "      gap: 12px;\n",
              "    }\n",
              "\n",
              "    .colab-df-convert {\n",
              "      background-color: #E8F0FE;\n",
              "      border: none;\n",
              "      border-radius: 50%;\n",
              "      cursor: pointer;\n",
              "      display: none;\n",
              "      fill: #1967D2;\n",
              "      height: 32px;\n",
              "      padding: 0 0 0 0;\n",
              "      width: 32px;\n",
              "    }\n",
              "\n",
              "    .colab-df-convert:hover {\n",
              "      background-color: #E2EBFA;\n",
              "      box-shadow: 0px 1px 2px rgba(60, 64, 67, 0.3), 0px 1px 3px 1px rgba(60, 64, 67, 0.15);\n",
              "      fill: #174EA6;\n",
              "    }\n",
              "\n",
              "    [theme=dark] .colab-df-convert {\n",
              "      background-color: #3B4455;\n",
              "      fill: #D2E3FC;\n",
              "    }\n",
              "\n",
              "    [theme=dark] .colab-df-convert:hover {\n",
              "      background-color: #434B5C;\n",
              "      box-shadow: 0px 1px 3px 1px rgba(0, 0, 0, 0.15);\n",
              "      filter: drop-shadow(0px 1px 2px rgba(0, 0, 0, 0.3));\n",
              "      fill: #FFFFFF;\n",
              "    }\n",
              "  </style>\n",
              "\n",
              "      <script>\n",
              "        const buttonEl =\n",
              "          document.querySelector('#df-94a3de85-149f-47f7-8f44-83ef3772e713 button.colab-df-convert');\n",
              "        buttonEl.style.display =\n",
              "          google.colab.kernel.accessAllowed ? 'block' : 'none';\n",
              "\n",
              "        async function convertToInteractive(key) {\n",
              "          const element = document.querySelector('#df-94a3de85-149f-47f7-8f44-83ef3772e713');\n",
              "          const dataTable =\n",
              "            await google.colab.kernel.invokeFunction('convertToInteractive',\n",
              "                                                     [key], {});\n",
              "          if (!dataTable) return;\n",
              "\n",
              "          const docLinkHtml = 'Like what you see? Visit the ' +\n",
              "            '<a target=\"_blank\" href=https://colab.research.google.com/notebooks/data_table.ipynb>data table notebook</a>'\n",
              "            + ' to learn more about interactive tables.';\n",
              "          element.innerHTML = '';\n",
              "          dataTable['output_type'] = 'display_data';\n",
              "          await google.colab.output.renderOutput(dataTable, element);\n",
              "          const docLink = document.createElement('div');\n",
              "          docLink.innerHTML = docLinkHtml;\n",
              "          element.appendChild(docLink);\n",
              "        }\n",
              "      </script>\n",
              "    </div>\n",
              "  </div>\n",
              "  "
            ]
          },
          "metadata": {},
          "execution_count": 30
        }
      ]
    },
    {
      "cell_type": "code",
      "source": [
        "p = sns.boxplot(y=\"waktu\", x=\"label\", data=hasil)"
      ],
      "metadata": {
        "id": "dzvN7q_KlqJj",
        "colab": {
          "base_uri": "https://localhost:8080/",
          "height": 285
        },
        "outputId": "977e8f0c-636e-4ee7-e0a5-6f28badc8498"
      },
      "execution_count": null,
      "outputs": [
        {
          "output_type": "display_data",
          "data": {
            "text/plain": [
              "<Figure size 432x288 with 1 Axes>"
            ],
            "image/png": "[encoded data removed]"
          },
          "metadata": {}
        }
      ]
    },
    {
      "cell_type": "markdown",
      "source": [
        "## Perbandingan Model\n",
        "\n",
        "Dari hasil komputasi, didapat rata-rata akurasi tiap model:\n",
        "- Minkowski = 0.716\n",
        "- Chebyshev = 0.736\n",
        "- Canberra = 0.712\n",
        "- Manhattan = 0.708\n",
        "\n",
        "Sehingga dapat diasumsikan Model Chebyshev merupakan model yang terbaik, sebab nilai akurasinya paling tinggi di antara model lainnya."
      ],
      "metadata": {
        "id": "sCbacw1cA_UE"
      }
    },
    {
      "cell_type": "markdown",
      "metadata": {
        "id": "yrxXDzxx9lNF"
      },
      "source": [
        "## Nomor 2"
      ]
    },
    {
      "cell_type": "code",
      "execution_count": null,
      "metadata": {
        "id": "NVO8UbAY9lNH"
      },
      "outputs": [],
      "source": [
        "def getNeighbour_chebyshev(data, observasi, k):\n",
        "    data['distance'] = 0.0\n",
        "    for idx, dt in data.iterrows():\n",
        "        data.at[idx, 'distance'] = distance.chebyshev(dt[['x1','x2']], observasi[['x1','x2']])\n",
        "    data.sort_values(by=['distance'], inplace=True, ascending=True)\n",
        "    data = data.head(k)\n",
        "    return data\n",
        "\n",
        "def getNeighbour_canberra(data, observasi, k):\n",
        "    data['distance'] = 0.0\n",
        "    for idx, dt in data.iterrows():\n",
        "        data.at[idx, 'distance'] = distance.canberra(dt[['x1','x2']], observasi[['x1','x2']])\n",
        "    data.sort_values(by=['distance'], inplace=True, ascending=True)\n",
        "    data = data.head(k)\n",
        "    return data\n",
        "\n",
        "def getNeighbour_Manhattan(data, observasi, k):\n",
        "    data['distance'] = 0.0\n",
        "    for idx, dt in data.iterrows():\n",
        "        data.at[idx, 'distance'] = distance.cityblock(dt[['x1','x2']], observasi[['x1','x2']], 2)\n",
        "    data.sort_values(by=['distance'], inplace=True, ascending=True)\n",
        "    data = data.head(k)\n",
        "    return data"
      ]
    },
    {
      "cell_type": "code",
      "execution_count": null,
      "metadata": {
        "id": "c5xANtQH9lNI"
      },
      "outputs": [],
      "source": [
        "akurasi_cheb = []\n",
        "akurasi_man = []\n",
        "akurasi_can = []\n",
        "\n",
        "def cv_cheb(fold = 10, k = 5):\n",
        "  for cv in range(fold):\n",
        "        prediksi = []\n",
        "        for i, d in test.iterrows():\n",
        "            tetangga = getNeighbour_chebyshev(train, d, k)\n",
        "            prediksi.append(tetangga.y.mode().values[0])\n",
        "        akurasi_cheb.append(accuracy_score(test.y.tolist(), prediksi))\n",
        "  return akurasi_cheb\n",
        "\n",
        "def cv_man(fold = 10, k = 5):\n",
        "  for cv in range(fold):\n",
        "        prediksi = []\n",
        "        for i, d in test.iterrows():\n",
        "            tetangga = getNeighbour_canberra(train, d, k)\n",
        "            prediksi.append(tetangga.y.mode().values[0])\n",
        "        akurasi_man.append(accuracy_score(test.y.tolist(), prediksi))\n",
        "  return akurasi_man\n",
        "\n",
        "def cv_can(fold = 10, k = 5):\n",
        "  for cv in range(fold):\n",
        "        prediksi = []\n",
        "        for i, d in test.iterrows():\n",
        "            tetangga = getNeighbour_Manhattan(train, d, k)\n",
        "            prediksi.append(tetangga.y.mode().values[0])\n",
        "        akurasi_can.append(accuracy_score(test.y.tolist(), prediksi))\n",
        "  return akurasi_can"
      ]
    },
    {
      "cell_type": "code",
      "execution_count": null,
      "metadata": {
        "id": "lQxxsXmF9lNJ",
        "outputId": "59733a71-45fc-41e2-d2a2-992c7334bef5"
      },
      "outputs": [
        {
          "name": "stdout",
          "output_type": "stream",
          "text": [
            "Parallel time cheb= 251.1995587348938\n",
            "Parallel time can= 263.1873941421509\n",
            "Parallel time man= 268.1729338169098\n"
          ]
        }
      ],
      "source": [
        "from threading import Thread\n",
        "if __name__ == \"__main__\":\n",
        "        t1 = Thread(target =cv_cheb)\n",
        "        t2 = Thread(target=cv_can)\n",
        "        t3 = Thread(target =cv_man)\n",
        "        start_time = time.time()\n",
        "        t1.start()\n",
        "        t1.join()\n",
        "        end_time = time.time()\n",
        "        print(\"Parallel time cheb=\", end_time - start_time)\n",
        "        start_time = time.time()\n",
        "        t2.start()\n",
        "        t2.join()\n",
        "        end_time = time.time()\n",
        "        print(\"Parallel time can=\", end_time - start_time)\n",
        "        start_time = time.time()\n",
        "        t3.start()\n",
        "        t3.join()\n",
        "        end_time = time.time()\n",
        "        print(\"Parallel time man=\", end_time - start_time)"
      ]
    },
    {
      "cell_type": "code",
      "execution_count": null,
      "metadata": {
        "id": "F5osI9cG9lNK",
        "outputId": "2f93265c-ae09-4c6c-e8c7-52422346a0bc"
      },
      "outputs": [
        {
          "name": "stdout",
          "output_type": "stream",
          "text": [
            "Rata-rata akurasi cheb = 0.736, Variansi Akurasi cheb= 0.0\n",
            "Rata-rata akurasi can = 0.708, Variansi Akurasi can= 0.0\n",
            "Rata-rata akurasi man = 0.712, Variansi Akurasi man= 0.0\n"
          ]
        }
      ],
      "source": [
        "print(\"Rata-rata akurasi cheb = {}, Variansi Akurasi cheb= {}\".format(np.mean(akurasi_cheb), np.var(akurasi_cheb)), flush=True)\n",
        "print(\"Rata-rata akurasi can = {}, Variansi Akurasi can= {}\".format(np.mean(akurasi_can), np.var(akurasi_can)), flush=True)\n",
        "print(\"Rata-rata akurasi man = {}, Variansi Akurasi man= {}\".format(np.mean(akurasi_man), np.var(akurasi_man)), flush=True)"
      ]
    },
    {
      "cell_type": "markdown",
      "source": [
        "## Kesimpulan Nomor 2\n",
        "\n",
        "Dengan menggunakan 3 thread untuk masing-masing program distance, perbandingan dengan serial sebagai berikut ;\n",
        "\n",
        "Didapat perbandingan runtime pada komputasi serial dan parallel :\n",
        "* untuk distance cheb :268 (total runtime serial), 251.1995587348938 (total runtime parallel)\n",
        "* untuk distance canberra :297 (total runtime serial),  263.1873941421509 (total runtime parallel)\n",
        "* untuk distance manhattan :297(total runtime serial), 268.1729338169098 (total runtime parallel)"
      ],
      "metadata": {
        "id": "niDGd2YtCANg"
      }
    }
  ]
}