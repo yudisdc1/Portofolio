{
  "nbformat": 4,
  "nbformat_minor": 0,
  "metadata": {
    "colab": {
      "provenance": [],
      "include_colab_link": true
    },
    "kernelspec": {
      "name": "python3",
      "display_name": "Python 3"
    },
    "language_info": {
      "name": "python"
    }
  },
  "cells": [
    {
      "cell_type": "markdown",
      "metadata": {
        "id": "view-in-github",
        "colab_type": "text"
      },
      "source": [
        "<a href=\"https://colab.research.google.com/github/yudisdc1/Portofolio/blob/main/Random%20Number%20Generator%20(RNG).ipynb\" target=\"_parent\"><img src=\"https://colab.research.google.com/assets/colab-badge.svg\" alt=\"Open In Colab\"/></a>"
      ]
    },
    {
      "cell_type": "markdown",
      "source": [
        "Kelompok D:\n",
        "\n",
        "Jeremi Okto Ricardo Marpaung 2006568733\n",
        "\n",
        "Yudistira Dwi Cahya 2006530942\n",
        "\n",
        "Whitney 2106700946\n",
        "\n",
        "Adriaan Waleleng 2106725072\n",
        "\n",
        "Esly Vani F. Saragih 2106700782\n",
        "\n",
        "Medifa Puspaningrum 2106634944"
      ],
      "metadata": {
        "id": "XpBwt0BLX-g_"
      }
    },
    {
      "cell_type": "markdown",
      "source": [
        "Random Number Generator kelompok D"
      ],
      "metadata": {
        "id": "Cm_MBvYEAuxI"
      }
    },
    {
      "cell_type": "code",
      "source": [
        "# Importing Modules untuk Notebook ini\n",
        "import warnings; warnings.simplefilter('ignore')\n",
        "import matplotlib.pyplot as plt, seaborn as sns, numpy as np\n",
        "sns.set(style=\"ticks\", color_codes=True)\n",
        "\n",
        "\"Done\""
      ],
      "metadata": {
        "colab": {
          "base_uri": "https://localhost:8080/",
          "height": 35
        },
        "id": "x97zdHlfBkzn",
        "outputId": "8138a7ea-5a19-464a-ad3d-98c50b551e60"
      },
      "execution_count": null,
      "outputs": [
        {
          "output_type": "execute_result",
          "data": {
            "text/plain": [
              "'Done'"
            ],
            "application/vnd.google.colaboratory.intrinsic+json": {
              "type": "string"
            }
          },
          "metadata": {},
          "execution_count": 1
        }
      ]
    },
    {
      "cell_type": "markdown",
      "source": [
        "# Soal no 1"
      ],
      "metadata": {
        "id": "jh2dg3MXBgla"
      }
    },
    {
      "cell_type": "code",
      "source": [
        "import numpy as np\n",
        "import seaborn as sns\n",
        "\n",
        "m = 2**32\n",
        "a = 7\n",
        "c = 5\n",
        "x0 = 11\n",
        "def fungsi(N):\n",
        "  def Greenberger(x0, m, a, c):\n",
        "    return (a*x0 + c)%m\n",
        "  x_rand = np.zeros(N)\n",
        "  x = Greenberger(x0, m, a, c)\n",
        "  x_rand[0] = x\n",
        "  for i in range(1,N):\n",
        "    x = (a*x + c)%m\n",
        "    x_rand[i] = x\n",
        "  return x_rand"
      ],
      "metadata": {
        "id": "GIeDvxFpCT5h"
      },
      "execution_count": null,
      "outputs": []
    },
    {
      "cell_type": "code",
      "source": [
        "#fungsi skalar N yang menghasilkan nilai rata rata dari dari angka random sebanyak N\n",
        "N=1000\n",
        "for i in range(len(fungsi(N))):\n",
        "  x_normal = fungsi(N)/m\n",
        "def rerata(N):\n",
        "  return sum(x_normal)/len(x_normal)\n",
        "print(x_normal)\n",
        "print(\"-----------------------------------\")\n",
        "print(\"rata rata :\", rerata(N))\n",
        "print(\"-----------------------------------\")\n",
        "X = x_normal\n",
        "plot = sns.displot(x=X, kde=True)"
      ],
      "metadata": {
        "colab": {
          "base_uri": "https://localhost:8080/",
          "height": 1000
        },
        "id": "Lyqvv6bSW14Q",
        "outputId": "c2ca66eb-85ec-4b2c-e40f-1c36dbdd4df8"
      },
      "execution_count": null,
      "outputs": [
        {
          "output_type": "stream",
          "name": "stdout",
          "text": [
            "[1.90921128e-08 1.34808943e-07 9.44826752e-07 6.61495142e-06\n",
            " 4.63058241e-05 3.24141933e-04 2.26899469e-03 1.58829640e-02\n",
            " 1.11180749e-01 7.78265246e-01 4.47856723e-01 1.34997061e-01\n",
            " 9.44979430e-01 6.14856009e-01 3.03992065e-01 1.27944457e-01\n",
            " 8.95611201e-01 2.69278408e-01 8.84948856e-01 1.94641991e-01\n",
            " 3.62493940e-01 5.37457582e-01 7.62203077e-01 3.35421542e-01\n",
            " 3.47950798e-01 4.35655587e-01 4.95891110e-02 3.47123778e-01\n",
            " 4.29866449e-01 9.06514074e-03 6.34559863e-02 4.44191905e-01\n",
            " 1.09343339e-01 7.65403376e-01 3.57823631e-01 5.04765420e-01\n",
            " 5.33357941e-01 7.33505589e-01 1.34539122e-01 9.41773857e-01\n",
            " 5.92416998e-01 1.46918990e-01 2.84329341e-02 1.99030540e-01\n",
            " 3.93213779e-01 7.52496456e-01 2.67475190e-01 8.72326332e-01\n",
            " 1.06284325e-01 7.43990273e-01 2.07931912e-01 4.55523385e-01\n",
            " 1.88663699e-01 3.20645896e-01 2.44521270e-01 7.11648891e-01\n",
            " 9.81542241e-01 8.70795690e-01 9.55698327e-02 6.68988830e-01\n",
            " 6.82921812e-01 7.80452688e-01 4.63168817e-01 2.42181721e-01\n",
            " 6.95272048e-01 8.66904334e-01 6.83303387e-02 4.78312372e-01\n",
            " 3.48186605e-01 4.37306237e-01 6.11436614e-02 4.28005631e-01\n",
            " 9.96039417e-01 9.72275921e-01 8.05931448e-01 6.41520134e-01\n",
            " 4.90640939e-01 4.34486572e-01 4.14060079e-02 2.89842057e-01\n",
            " 2.88943988e-02 2.02260793e-01 4.15825552e-01 9.10778864e-01\n",
            " 3.75452050e-01 6.28164348e-01 3.97150437e-01 7.80053059e-01\n",
            " 4.60371417e-01 2.22599917e-01 5.58199419e-01 9.07395935e-01\n",
            " 3.51771549e-01 4.62400843e-01 2.36805903e-01 6.57641324e-01\n",
            " 6.03489269e-01 2.24424884e-01 5.70974192e-01 9.96819346e-01\n",
            " 9.77735423e-01 8.44147962e-01 9.09035737e-01 3.63250161e-01\n",
            " 5.42751130e-01 7.99257912e-01 5.94805388e-01 1.63637719e-01\n",
            " 1.45464033e-01 1.82482346e-02 1.27737644e-01 8.94163507e-01\n",
            " 2.59144549e-01 8.14011843e-01 6.98082900e-01 8.86580302e-01\n",
            " 2.06062116e-01 4.42434815e-01 9.70437028e-02 6.79305921e-01\n",
            " 7.55141449e-01 2.85990142e-01 1.93099538e-03 1.35169688e-02\n",
            " 9.46187829e-02 6.62331481e-01 6.36320370e-01 4.54242590e-01\n",
            " 1.79698129e-01 2.57886902e-01 8.05208317e-01 6.36458217e-01\n",
            " 4.55207520e-01 1.86452639e-01 3.05168475e-01 1.36179323e-01\n",
            " 9.53255263e-01 6.72786840e-01 7.09507881e-01 9.66555170e-01\n",
            " 7.65886188e-01 3.61203317e-01 5.28423222e-01 6.98962557e-01\n",
            " 8.92737899e-01 2.49165297e-01 7.44157082e-01 2.09099575e-01\n",
            " 4.63697024e-01 2.45879170e-01 7.21154193e-01 4.80793517e-02\n",
            " 3.36555463e-01 3.55888241e-01 4.91217686e-01 4.38523805e-01\n",
            " 6.96666394e-02 4.87666477e-01 4.13665342e-01 8.95657393e-01\n",
            " 2.69601752e-01 8.87212262e-01 2.10485837e-01 4.73400860e-01\n",
            " 3.13806020e-01 1.96642142e-01 3.76494999e-01 6.35464991e-01\n",
            " 4.48254940e-01 1.37784579e-01 9.64492051e-01 7.51444361e-01\n",
            " 2.60110528e-01 8.20773695e-01 7.45415869e-01 2.17911082e-01\n",
            " 5.25377576e-01 6.77643032e-01 7.43501222e-01 2.04508557e-01\n",
            " 4.31559898e-01 2.09192901e-02 1.46435032e-01 2.50452261e-02\n",
            " 1.75316584e-01 2.27216088e-01 5.90512617e-01 1.33588320e-01\n",
            " 9.35118244e-01 5.45827706e-01 8.20793944e-01 7.45557609e-01\n",
            " 2.18903263e-01 5.32322840e-01 7.26259878e-01 8.38191498e-02\n",
            " 5.86734049e-01 1.07138348e-01 7.49968434e-01 2.49779041e-01\n",
            " 7.48453286e-01 2.39173003e-01 6.74211024e-01 7.19477168e-01\n",
            " 3.63401775e-02 2.54381244e-01 7.80668708e-01 4.64680957e-01\n",
            " 2.52766703e-01 7.69366921e-01 3.85568446e-01 6.98979123e-01\n",
            " 8.92853864e-01 2.49977049e-01 7.49839345e-01 2.48875419e-01\n",
            " 7.42127937e-01 1.94895559e-01 3.64268912e-01 5.49882388e-01\n",
            " 8.49176720e-01 9.44237043e-01 6.09659302e-01 2.67615112e-01\n",
            " 8.73305787e-01 1.13140509e-01 7.91983566e-01 5.43884962e-01\n",
            " 8.07194733e-01 6.50363129e-01 5.52541906e-01 8.67793347e-01\n",
            " 7.45534268e-02 5.21873989e-01 6.53117924e-01 5.71825466e-01\n",
            " 2.77826237e-03 1.94478377e-02 1.36134865e-01 9.52944058e-01\n",
            " 6.70608405e-01 6.94258840e-01 8.59811878e-01 1.86831492e-02\n",
            " 1.30782046e-01 9.15474322e-01 4.08320258e-01 8.58241807e-01\n",
            " 7.69264670e-03 5.38485281e-02 3.76939698e-01 6.38577885e-01\n",
            " 4.70045194e-01 2.90316363e-01 3.22145396e-02 2.25501778e-01\n",
            " 5.78512449e-01 4.95871461e-02 3.47110024e-01 4.29770170e-01\n",
            " 8.39119451e-03 5.87383627e-02 4.11168540e-01 8.78179784e-01\n",
            " 1.47258487e-01 3.08094106e-02 2.15665875e-01 5.09661129e-01\n",
            " 5.67627907e-01 9.73395352e-01 8.13767465e-01 6.96372258e-01\n",
            " 8.74605809e-01 1.22240663e-01 8.55684644e-01 9.89792510e-01\n",
            " 9.28547569e-01 4.99832985e-01 4.98830894e-01 4.91816262e-01\n",
            " 4.42713839e-01 9.89968709e-02 6.92978098e-01 8.50846684e-01\n",
            " 9.55926791e-01 6.91487540e-01 8.40412783e-01 8.82889482e-01\n",
            " 1.80226375e-01 2.61584625e-01 8.31092379e-01 8.17646651e-01\n",
            " 7.23526560e-01 6.46859228e-02 4.52801461e-01 1.69610227e-01\n",
            " 1.87271592e-01 3.10901143e-01 1.76308005e-01 2.34156034e-01\n",
            " 6.39092237e-01 4.73645662e-01 3.15519633e-01 2.08637434e-01\n",
            " 4.60462038e-01 2.23234267e-01 5.62639868e-01 9.38479080e-01\n",
            " 5.69353559e-01 9.85474911e-01 8.98324380e-01 2.88270662e-01\n",
            " 1.78946373e-02 1.25262462e-01 8.76837237e-01 1.37860662e-01\n",
            " 9.65024636e-01 7.55172451e-01 2.86207157e-01 3.45009821e-03\n",
            " 2.41506887e-02 1.69054822e-01 1.83383754e-01 2.83686279e-01\n",
            " 9.85803955e-01 9.00627685e-01 3.04393793e-01 1.30756552e-01\n",
            " 9.15295866e-01 4.07071062e-01 8.49497436e-01 9.46482054e-01\n",
            " 6.25374377e-01 3.77620642e-01 6.43344494e-01 5.03411460e-01\n",
            " 5.23880218e-01 6.67161525e-01 6.70130676e-01 6.90914734e-01\n",
            " 8.36403139e-01 8.54821977e-01 9.83753840e-01 8.86276881e-01\n",
            " 2.03938168e-01 4.27567177e-01 9.92970242e-01 9.50791693e-01\n",
            " 6.55541853e-01 5.88792969e-01 1.21550786e-01 8.50855502e-01\n",
            " 9.55988516e-01 6.91919611e-01 8.43437275e-01 9.04060929e-01\n",
            " 3.28426503e-01 2.98985523e-01 9.28986617e-02 6.50290633e-01\n",
            " 5.52034434e-01 8.64241042e-01 4.96872948e-02 3.47811064e-01\n",
            " 4.34677452e-01 4.27421674e-02 2.99195173e-01 9.43662103e-02\n",
            " 6.60563473e-01 6.23944313e-01 3.67610192e-01 5.73271348e-01\n",
            " 1.28994365e-02 9.02960568e-02 6.32072399e-01 4.24506793e-01\n",
            " 9.71547556e-01 8.00832891e-01 6.05830236e-01 2.40811652e-01\n",
            " 6.85681567e-01 7.99770971e-01 5.98396795e-01 1.88777569e-01\n",
            " 3.21442981e-01 2.50100867e-01 7.50706068e-01 2.54942476e-01\n",
            " 7.84597330e-01 4.92181313e-01 4.45269192e-01 1.16884346e-01\n",
            " 8.18190422e-01 7.27332958e-01 9.13307057e-02 6.39314941e-01\n",
            " 4.75204587e-01 3.26432113e-01 2.85024794e-01 9.95173561e-01\n",
            " 9.66214929e-01 7.63504506e-01 3.44531542e-01 4.11720796e-01\n",
            " 8.82045575e-01 1.74319026e-01 2.20233182e-01 5.41632275e-01\n",
            " 7.91425925e-01 5.39981478e-01 7.79870345e-01 4.59092415e-01\n",
            " 2.13646904e-01 4.95528330e-01 4.68698310e-01 2.80888173e-01\n",
            " 9.66217209e-01 7.63520465e-01 3.44643256e-01 4.12502794e-01\n",
            " 8.87519561e-01 2.12636930e-01 4.88458509e-01 4.19209565e-01\n",
            " 9.34466955e-01 5.41268685e-01 7.88880794e-01 5.22165558e-01\n",
            " 6.55158908e-01 5.86112355e-01 1.02786484e-01 7.19505387e-01\n",
            " 3.65377110e-02 2.55763978e-01 7.90347850e-01 5.32434954e-01\n",
            " 7.27044680e-01 8.93127590e-02 6.25189314e-01 3.76325200e-01\n",
            " 6.34276402e-01 4.39934813e-01 7.95436935e-02 5.56805855e-01\n",
            " 8.97640989e-01 2.83486922e-01 9.84408455e-01 8.90859189e-01\n",
            " 2.36014326e-01 6.52100281e-01 5.64701966e-01 9.52913760e-01\n",
            " 6.70396321e-01 6.92774248e-01 8.49419738e-01 9.45938165e-01\n",
            " 6.21567157e-01 3.50970098e-01 4.56790684e-01 1.97534791e-01\n",
            " 3.82743538e-01 6.79204766e-01 7.54433366e-01 2.81033563e-01\n",
            " 9.67234944e-01 7.70644606e-01 3.94512242e-01 7.61585696e-01\n",
            " 3.31099876e-01 3.17699131e-01 2.23893920e-01 5.67257444e-01\n",
            " 9.70802110e-01 7.95614772e-01 5.69303407e-01 9.85123849e-01\n",
            " 8.95866946e-01 2.71068622e-01 8.97480356e-01 2.82362493e-01\n",
            " 9.76537455e-01 8.35762189e-01 8.50335321e-01 9.52347248e-01\n",
            " 6.66430735e-01 6.65015143e-01 6.55106003e-01 5.85742022e-01\n",
            " 1.00194153e-01 7.01359072e-01 9.09513502e-01 3.66594515e-01\n",
            " 5.66161603e-01 9.63131224e-01 7.41918566e-01 1.93429964e-01\n",
            " 3.54009752e-01 4.78068263e-01 3.46477842e-01 4.25344898e-01\n",
            " 9.77414288e-01 8.41900018e-01 8.93300126e-01 2.53100882e-01\n",
            " 7.71706176e-01 4.01943230e-01 8.13602610e-01 6.95218271e-01\n",
            " 8.66527901e-01 6.56953051e-02 4.59867137e-01 2.19069960e-01\n",
            " 5.33489723e-01 7.34428064e-01 1.40996447e-01 9.86975132e-01\n",
            " 9.08825927e-01 3.61781490e-01 5.32470430e-01 7.27293010e-01\n",
            " 9.10510686e-02 6.37357482e-01 4.61502372e-01 2.30516604e-01\n",
            " 6.13616229e-01 2.95313601e-01 6.71952092e-02 4.70366466e-01\n",
            " 2.92565261e-01 4.79568250e-02 3.35697776e-01 3.49884434e-01\n",
            " 4.49191042e-01 1.44337293e-01 1.03610554e-02 7.25273888e-02\n",
            " 5.07691723e-01 5.53842061e-01 8.76894428e-01 1.38260997e-01\n",
            " 9.67826978e-01 7.74788846e-01 4.23521923e-01 9.64653465e-01\n",
            " 7.52574254e-01 2.68019781e-01 8.76138470e-01 1.32969289e-01\n",
            " 9.30785023e-01 5.15495163e-01 6.08466143e-01 2.59263004e-01\n",
            " 8.14841029e-01 7.03887203e-01 9.27210419e-01 4.90472934e-01\n",
            " 4.33310539e-01 3.31737741e-02 2.32216420e-01 6.25514942e-01\n",
            " 3.78604595e-01 6.50232167e-01 5.51625168e-01 8.61376180e-01\n",
            " 2.96332617e-02 2.07432833e-01 4.52029834e-01 1.64208839e-01\n",
            " 1.49461877e-01 4.62331406e-02 3.23631986e-01 2.65423900e-01\n",
            " 8.57967303e-01 5.77111985e-03 4.03978401e-02 2.82784882e-01\n",
            " 9.79494174e-01 8.56459216e-01 9.95214513e-01 9.66501592e-01\n",
            " 7.65511148e-01 3.58578038e-01 5.10046268e-01 5.70323880e-01\n",
            " 9.92267158e-01 9.45870110e-01 6.21090768e-01 3.47635380e-01\n",
            " 4.33447659e-01 3.41336175e-02 2.38935324e-01 6.72547268e-01\n",
            " 7.07830880e-01 9.54816163e-01 6.83713144e-01 7.85992010e-01\n",
            " 5.01944073e-01 5.13608512e-01 5.95259587e-01 1.66817109e-01\n",
            " 1.67719763e-01 1.74038344e-01 2.18268408e-01 5.27878857e-01\n",
            " 6.95152000e-01 8.66064002e-01 6.24480122e-02 4.37136086e-01\n",
            " 5.99526060e-02 4.19668243e-01 9.37677702e-01 5.63743918e-01\n",
            " 9.46207427e-01 6.23451990e-01 3.64163930e-01 5.49147512e-01\n",
            " 8.44032582e-01 9.08228078e-01 3.57596545e-01 5.03175816e-01\n",
            " 5.22230715e-01 6.55615006e-01 5.89305046e-01 1.25135320e-01\n",
            " 8.75947241e-01 1.31630690e-01 9.21414828e-01 4.49903800e-01\n",
            " 1.49326601e-01 4.52862054e-02 3.17003439e-01 2.19024072e-01\n",
            " 5.33168506e-01 7.32179546e-01 1.25256820e-01 8.76797742e-01\n",
            " 1.37584195e-01 9.63089366e-01 7.41625565e-01 1.91378954e-01\n",
            " 3.39652677e-01 3.77568737e-01 6.42981163e-01 5.00868140e-01\n",
            " 5.06076985e-01 5.42538893e-01 7.97772253e-01 5.84405775e-01\n",
            " 9.08404258e-02 6.35882982e-01 4.51180874e-01 1.58266118e-01\n",
            " 1.07862831e-01 7.55039816e-01 2.85278710e-01 9.96950972e-01\n",
            " 9.78656803e-01 8.50597621e-01 9.54183346e-01 6.79283424e-01\n",
            " 7.54983969e-01 2.84887788e-01 9.94214515e-01 9.59501604e-01\n",
            " 7.16511231e-01 1.55786208e-02 1.09050347e-01 7.63352430e-01\n",
            " 3.43467013e-01 4.04269089e-01 8.29883622e-01 8.09185358e-01\n",
            " 6.64297510e-01 6.50082574e-01 5.50578019e-01 8.54046135e-01\n",
            " 9.78322946e-01 8.48260623e-01 9.37824363e-01 5.64770545e-01\n",
            " 9.53393814e-01 6.73756697e-01 7.16296880e-01 1.40781614e-02\n",
            " 9.85471313e-02 6.89829920e-01 8.28809442e-01 8.01666098e-01\n",
            " 6.11662690e-01 2.81638832e-01 9.71471822e-01 8.00302758e-01\n",
            " 6.02119305e-01 2.14835134e-01 5.03845940e-01 5.26921580e-01\n",
            " 6.88451063e-01 8.19157445e-01 7.34102114e-01 1.38714797e-01\n",
            " 9.71003578e-01 7.97025044e-01 5.79175311e-01 5.42271759e-02\n",
            " 3.79590232e-01 6.57131628e-01 5.99921396e-01 1.99449776e-01\n",
            " 3.96148436e-01 7.73039055e-01 4.11273385e-01 8.78913696e-01\n",
            " 1.52395871e-01 6.67710982e-02 4.67397688e-01 2.71783820e-01\n",
            " 9.02486742e-01 3.17407195e-01 2.21850368e-01 5.52952575e-01\n",
            " 8.70668028e-01 9.46761973e-02 6.62733382e-01 6.39133676e-01\n",
            " 4.73935731e-01 3.17550120e-01 2.22850839e-01 5.59955875e-01\n",
            " 9.19691127e-01 4.37837892e-01 6.48652450e-02 4.54056716e-01\n",
            " 1.78397015e-01 2.48779108e-01 7.41453754e-01 1.90176281e-01\n",
            " 3.31233968e-01 3.18637774e-01 2.30464420e-01 6.13250940e-01\n",
            " 2.92756580e-01 4.92960631e-02 3.45072443e-01 4.15507103e-01\n",
            " 9.08549723e-01 3.59848060e-01 5.18936424e-01 6.32554970e-01\n",
            " 4.27884788e-01 9.95193516e-01 9.66354611e-01 7.64482277e-01\n",
            " 3.51375942e-01 4.59631593e-01 2.17421150e-01 5.21948053e-01\n",
            " 6.53636374e-01 5.75454619e-01 2.81823375e-02 1.97276364e-01\n",
            " 3.80934548e-01 6.66541838e-01 6.65792866e-01 6.60550064e-01\n",
            " 6.23850450e-01 3.66953154e-01 5.68672078e-01 9.80704549e-01\n",
            " 8.64931841e-01 5.45228876e-02 3.81660214e-01 6.71621500e-01\n",
            " 7.01350503e-01 9.09453523e-01 3.66174663e-01 5.63222642e-01\n",
            " 9.42558494e-01 5.97909459e-01 1.85366212e-01 2.97563485e-01\n",
            " 8.29443936e-02 5.80610757e-01 6.42752969e-02 4.49927079e-01\n",
            " 1.49489556e-01 4.64268930e-02 3.24988252e-01 2.74917765e-01\n",
            " 9.24424358e-01 4.70970508e-01 2.96793560e-01 7.75549214e-02\n",
            " 5.42884451e-01 8.00191157e-01 6.01338102e-01 2.09366715e-01\n",
            " 4.65567008e-01 2.58969058e-01 8.12783408e-01 6.89483854e-01\n",
            " 8.26386977e-01 7.84708843e-01 4.92961904e-01 4.50733333e-01\n",
            " 1.55133330e-01 8.59333097e-02 6.01533169e-01 2.10732187e-01\n",
            " 4.75125310e-01 3.25877168e-01 2.81140177e-01 9.67981240e-01\n",
            " 7.75868685e-01 4.31080793e-01 1.75655507e-02 1.22958856e-01\n",
            " 8.60711996e-01 2.49839730e-02 1.74887812e-01 2.24214687e-01\n",
            " 5.69502809e-01 9.86519661e-01 9.05637632e-01 3.39463423e-01\n",
            " 3.76243961e-01 6.33707725e-01 4.35954078e-01 5.16785446e-02\n",
            " 3.61749813e-01 5.32248695e-01 7.25740867e-01 8.01860716e-02\n",
            " 5.61302502e-01 9.29117516e-01 5.03822616e-01 5.26758312e-01\n",
            " 6.87308185e-01 8.11157298e-01 6.78101087e-01 7.46707613e-01\n",
            " 2.26953295e-01 5.88673063e-01 1.20711444e-01 8.44980112e-01\n",
            " 9.14860785e-01 4.04025499e-01 8.28178497e-01 7.97249484e-01\n",
            " 5.80746387e-01 6.52247078e-02 4.56572956e-01 1.96010693e-01\n",
            " 3.72074850e-01 6.04523954e-01 2.31667677e-01 6.21673743e-01\n",
            " 3.51716202e-01 4.62013417e-01 2.34093918e-01 6.38657427e-01\n",
            " 4.70601991e-01 2.94213940e-01 5.94975823e-02 4.16483077e-01\n",
            " 9.15381540e-01 4.07670782e-01 8.53695473e-01 9.75868313e-01\n",
            " 8.31078195e-01 8.17547363e-01 7.22831542e-01 5.98207961e-02\n",
            " 4.18745574e-01 9.31219020e-01 5.18533139e-01 6.29731974e-01\n",
            " 4.08123821e-01 8.56866752e-01 9.98067262e-01 9.86470836e-01\n",
            " 9.05295853e-01 3.37070972e-01 3.59496808e-01 5.16477658e-01\n",
            " 6.15343608e-01 3.07405260e-01 1.51836822e-01 6.28577571e-02\n",
            " 4.40004301e-01 8.00301067e-02 5.60210748e-01 9.21475238e-01\n",
            " 4.50326667e-01 1.52286668e-01 6.60066777e-02 4.62046745e-01\n",
            " 2.34327216e-01 6.40290514e-01 4.82033601e-01 3.74235212e-01\n",
            " 6.19646483e-01 3.37525380e-01 3.62677658e-01 5.38743610e-01\n",
            " 7.71205273e-01 3.98436912e-01 7.89058386e-01 5.23408702e-01\n",
            " 6.63860918e-01 6.47026424e-01 5.29184970e-01 7.04294788e-01\n",
            " 9.30063520e-01 5.10444642e-01 5.73112494e-01 1.17874581e-02\n",
            " 8.25122078e-02 5.77585456e-01 4.30981913e-02 3.01687340e-01\n",
            " 1.11811381e-01 7.82679670e-01 4.78757693e-01 3.51303852e-01\n",
            " 4.59126965e-01 2.13888754e-01 4.97221278e-01 4.80548951e-01\n",
            " 3.63842655e-01 5.46898589e-01 8.28290126e-01 7.98030882e-01\n",
            " 5.86216175e-01 1.03513223e-01 7.24592561e-01 7.21479307e-02\n",
            " 5.05035516e-01 5.35248616e-01 7.46740310e-01 2.27182171e-01\n",
            " 5.90275199e-01 1.31926392e-01 9.23484745e-01 4.64393216e-01\n",
            " 2.50752513e-01 7.55267591e-01 2.86873138e-01 8.11196747e-03\n",
            " 5.67837735e-02 3.97486415e-01 7.82404909e-01 4.76834367e-01\n",
            " 3.37840569e-01 3.64883982e-01 5.54187878e-01 8.79315144e-01\n",
            " 1.55206010e-01 8.64420726e-02 6.05094510e-01 2.35661569e-01\n",
            " 6.49630983e-01 5.47416881e-01 8.31918171e-01 8.23427199e-01\n",
            " 7.63990395e-01 3.47932768e-01 4.35529376e-01 4.87056326e-02\n",
            " 3.40939429e-01 3.86576005e-01 7.06032036e-01 9.42224256e-01\n",
            " 5.95569790e-01 1.68988530e-01 1.82919713e-01 2.80437994e-01\n",
            " 9.63065956e-01 7.41461695e-01 1.90231866e-01 3.31623061e-01\n",
            " 3.21361430e-01 2.49530014e-01 7.46710102e-01 2.26970712e-01\n",
            " 5.88794988e-01 1.21564918e-01 8.50954427e-01 9.56680990e-01\n",
            " 6.96766928e-01 8.77368499e-01 1.41579496e-01 9.91056475e-01\n",
            " 9.37395324e-01 5.61767266e-01 9.32370862e-01 5.26596038e-01\n",
            " 6.86172270e-01 8.03205889e-01 6.22441227e-01 3.57088591e-01]\n",
            "-----------------------------------\n",
            "rata rata : 0.5032499364921823\n",
            "-----------------------------------\n"
          ]
        },
        {
          "output_type": "display_data",
          "data": {
            "text/plain": [
              "<Figure size 360x360 with 1 Axes>"
            ],
            "image/png": "[encoded data removed]"
          },
          "metadata": {}
        }
      ]
    },
    {
      "cell_type": "markdown",
      "source": [
        "Terlihat dari plot di atas, distribusi dari X jika N yang digenerate sangat besar akan berupa distribusi uniform  [0, 1]\n",
        "\n",
        "Periode pada X terjadi pada N yang sangat besar, karena keterbatasan komputasi, kami tidak dapat menunjukkan di mana letak periode tersebut berada."
      ],
      "metadata": {
        "id": "Vh4QQ2X3eYm5"
      }
    },
    {
      "cell_type": "markdown",
      "source": [
        "# Soal no 2"
      ],
      "metadata": {
        "id": "jV_f5L1lBxuV"
      }
    },
    {
      "cell_type": "markdown",
      "source": [
        "Menggunakan modul Poisson"
      ],
      "metadata": {
        "id": "VdRL2yFuiSRi"
      }
    },
    {
      "cell_type": "code",
      "source": [
        "import numpy as np\n",
        "s = np.random.poisson(7, 100000)"
      ],
      "metadata": {
        "id": "cbzyMzyqCUtR"
      },
      "execution_count": null,
      "outputs": []
    },
    {
      "cell_type": "code",
      "source": [
        "import matplotlib.pyplot as plt\n",
        "count, bins, ignored = plt.hist(s, 14, density=True)\n",
        "plt.show()"
      ],
      "metadata": {
        "colab": {
          "base_uri": "https://localhost:8080/",
          "height": 268
        },
        "id": "KcZfLxkUh32_",
        "outputId": "4bd7e921-71de-490d-8ddc-3a6b4ea32329"
      },
      "execution_count": null,
      "outputs": [
        {
          "output_type": "display_data",
          "data": {
            "text/plain": [
              "<Figure size 432x288 with 1 Axes>"
            ],
            "image/png": "[encoded data removed]"
          },
          "metadata": {}
        }
      ]
    },
    {
      "cell_type": "markdown",
      "source": [
        "Menggunakan Algoritma Python"
      ],
      "metadata": {
        "id": "_fM2p5FviWab"
      }
    },
    {
      "cell_type": "markdown",
      "source": [
        "source : https://www.youtube.com/watch?v=Asto3RS46ks&t=279s"
      ],
      "metadata": {
        "id": "UUVLMXHTh-nx"
      }
    },
    {
      "cell_type": "code",
      "source": [
        "import numpy as np\n",
        "from numpy import random\n",
        "from random import seed\n",
        "import matplotlib.pyplot as plt\n",
        "from tqdm import tqdm\n",
        "import seaborn as sns\n",
        "N = 10**5\n",
        "def poisson(lam):\n",
        "  el = np.exp(-lam)\n",
        "  n=0\n",
        "  u= np.random.uniform(0,1)\n",
        "  pp,fact,pow = el,1,1\n",
        "  while u>pp:\n",
        "    n=n+1\n",
        "    fact,pow = n*fact, lam*pow\n",
        "    pp = pp + (pow/fact)*el\n",
        "  return n\n",
        "\n",
        "seed(1)\n",
        "X = np.zeros(N)\n",
        "for i,x in tqdm(enumerate(X)):\n",
        "  X[i]=np.sum(poisson(7))\n",
        "\n",
        "X[:100]"
      ],
      "metadata": {
        "colab": {
          "base_uri": "https://localhost:8080/"
        },
        "id": "_-4cl7xNh6CN",
        "outputId": "bea33183-ccb8-45d7-fdea-2659225abca9"
      },
      "execution_count": null,
      "outputs": [
        {
          "output_type": "stream",
          "name": "stderr",
          "text": [
            "100000it [00:02, 43241.53it/s]\n"
          ]
        },
        {
          "output_type": "execute_result",
          "data": {
            "text/plain": [
              "array([12.,  7.,  9., 11.,  5.,  8., 11.,  6., 11.,  4.,  2.,  4.,  8.,\n",
              "        9.,  1.,  4.,  9.,  6.,  3.,  4.,  1.,  5.,  5., 13.,  6., 10.,\n",
              "        8., 14.,  8.,  4.,  5.,  7.,  8., 11., 10.,  6.,  5., 10.,  8.,\n",
              "       12.,  2.,  9.,  4.,  4.,  6.,  5.,  8.,  4.,  7.,  8.,  5.,  9.,\n",
              "        7.,  8., 13.,  6., 10., 12.,  7., 13.,  9.,  6.,  3., 10.,  3.,\n",
              "        9.,  6.,  5.,  5.,  5.,  8.,  7.,  4., 11.,  9., 11., 12.,  7.,\n",
              "        6.,  5.,  6.,  9.,  4.,  5.,  5.,  7.,  8., 11.,  6.,  6.,  8.,\n",
              "        8.,  8.,  8.,  6., 15.,  9.,  5., 10.,  3.])"
            ]
          },
          "metadata": {},
          "execution_count": 27
        }
      ]
    },
    {
      "cell_type": "code",
      "source": [
        "plt.figure(figsize=(8,6))\n",
        "p=sns.countplot(x=X)"
      ],
      "metadata": {
        "colab": {
          "base_uri": "https://localhost:8080/",
          "height": 377
        },
        "id": "cZg3_IGuidM1",
        "outputId": "9bcecf38-06df-4bdb-9c22-1baf15274073"
      },
      "execution_count": null,
      "outputs": [
        {
          "output_type": "display_data",
          "data": {
            "text/plain": [
              "<Figure size 576x432 with 1 Axes>"
            ],
            "image/png": "[encoded data removed]"
          },
          "metadata": {}
        }
      ]
    },
    {
      "cell_type": "markdown",
      "source": [
        "Kesimpulan : terdapat perbedaan visualisasi ketika menggunakan modul dari python dengan ketika membangun codes dari algoritma yang diberikan. Hal ini karena law of large number yang mungkin terjadi, yakni ketika jumlah n yang sangat besar maka distribusinya akan mendekati distribusi normal yang grafiknya akan bersifat simetris pada rata-rata. Hal itu yang terjadi ketika kita membangun codes dari algoritma yang diberikan"
      ],
      "metadata": {
        "id": "-ZDYYy5NifDq"
      }
    },
    {
      "cell_type": "markdown",
      "source": [
        "# Soal no 3"
      ],
      "metadata": {
        "id": "SXwe1jmmBxw2"
      }
    },
    {
      "cell_type": "code",
      "source": [
        "import numpy as np\n",
        "import math\n",
        "import random\n",
        "from matplotlib import pyplot as plt\n",
        "from IPython.display import clear_output\n",
        "from random import seed\n",
        "\n",
        "\n",
        "\n",
        "PI = 3.1415926\n",
        "e=2.7182818\n",
        "seed(1)\n",
        "\n",
        "def get_rand_number(min_value, max_value):\n",
        "    \"\"\"\n",
        "    Fungsi ini mendapatkan angka random dari uniform distribution antara\n",
        "    dua nilai input [min_value, max_value] secara inklusif\n",
        "    Args:\n",
        "    - min_value (float)\n",
        "    - max_value (float)\n",
        "    Return:\n",
        "    - Angka random diantara range ini (float)\n",
        "    \"\"\"\n",
        "    range = max_value - min_value\n",
        "    choice = random.uniform(0,1)\n",
        "    return min_value + range*choice\n",
        "\n",
        "def f_of_x(x):\n",
        "    \"\"\"\n",
        "    Ini adalah fungsi yang ingin kita lakukan integral\n",
        "    Args:\n",
        "    - x (float) : input kepada fungsi yang harus dalam radian\n",
        "    Return:\n",
        "    - Output f(x) (float)\n",
        "    \"\"\"\n",
        "    return (e**(1*x)-1)/(e-1)\n",
        "\n",
        "def crude_monte_carlo(num_samples=100):\n",
        "    \"\"\"\n",
        "    Fungsi ini menjalankan integral untuk fungsi yang spesifik f(x) dengan range yang sudah ditentukan\n",
        "    Args:\n",
        "    - num_samples (float) : jumlah sampel\n",
        "    Return:\n",
        "    - Crude Monte Carlo estimation (float)\n",
        "\n",
        "    \"\"\"\n",
        "    lower_bound = 0\n",
        "    upper_bound = 1\n",
        "\n",
        "    sum_of_samples = 0\n",
        "    for i in range(num_samples):\n",
        "        x = get_rand_number(lower_bound, upper_bound)\n",
        "        sum_of_samples += f_of_x(x)\n",
        "\n",
        "    return (upper_bound - lower_bound) * float(sum_of_samples/num_samples)\n",
        "\n",
        "def get_crude_MC_variance(num_samples):\n",
        "    \"\"\"\n",
        "    Fungsi ini menghitung variansi Crude Monte Carlo.\n",
        "    Angka yang diinput tidak harus sama dengan jumlah sample di Monte\n",
        "    Carlo Simulation.\n",
        "    Args:\n",
        "    - num_samples (int)\n",
        "    Return:\n",
        "    - Variansi untuk Crude Monte Carlo approximation of f(x) (float)\n",
        "    \"\"\"\n",
        "    int_max = 1  # Ini batas atas integral yang ingin kita lakukan\n",
        "\n",
        "    # rata-rata jumlah kuadrat\n",
        "    running_total = 0\n",
        "    for i in range(num_samples):\n",
        "        x = get_rand_number(0, int_max)\n",
        "        running_total += f_of_x(x)**2\n",
        "    sum_of_sqs = running_total*int_max / num_samples\n",
        "\n",
        "    # Akar mean\n",
        "    running_total = 0\n",
        "    for i in range(num_samples):\n",
        "        x = get_rand_number(0, int_max)\n",
        "        running_total = f_of_x(x)\n",
        "    sq_ave = (int_max*running_total/num_samples)**2\n",
        "\n",
        "    return sum_of_sqs - sq_ave\n",
        "\n",
        "\n",
        "# Crude Monte Carlo simulation\n",
        "# Akan dihitung juga variansi, error, dan confidence interval 95%\n",
        "\n",
        "samples = 100\n",
        "var_samples = 100 # Jumlah sampel untuk menghitung variansi\n",
        "crude_estimation = crude_monte_carlo(samples)\n",
        "variance = get_crude_MC_variance(var_samples)\n",
        "error = math.sqrt(variance/samples)\n",
        "\n",
        "#Hasil\n",
        "print(f\"Monte Carlo Approximation of f(x): {crude_estimation}\")\n",
        "print(f\"Variance of Approximation: {variance}\")\n",
        "print(f\"Error in Approximation: {error}\")\n",
        "print('Confidence Interval 95% = ', crude_estimation, ' +/- ', 2*np.sqrt(crude_estimation*(1-crude_estimation)/samples))\n"
      ],
      "metadata": {
        "id": "Z78hIaJ6Bw1m",
        "colab": {
          "base_uri": "https://localhost:8080/"
        },
        "outputId": "70e12320-8b53-4258-b1a6-507fdca5e43d"
      },
      "execution_count": null,
      "outputs": [
        {
          "output_type": "stream",
          "name": "stdout",
          "text": [
            "Monte Carlo Approximation of f(x): 0.4287473692849668\n",
            "Variance of Approximation: 0.21785589902800023\n",
            "Error in Approximation: 0.04667503605012001\n",
            "Confidence Interval 95% =  0.4287473692849668  +/-  0.09897940444682157\n"
          ]
        }
      ]
    },
    {
      "cell_type": "code",
      "source": [
        "from numpy.random import rand\n",
        "from numpy.random import seed\n",
        "\n",
        "\n",
        "def f(x):\n",
        "    return ()\n",
        "\n",
        "seed(1)\n",
        "N=100\n",
        "teta = 0.418\n",
        "xrand = rand(N)\n",
        "yrand = rand(N) # Random Uniform x dan y\n",
        "print('$$$ Hit or Miss Monte Carlo $$$') # Hit or Miss Monte Carlo\n",
        "\n",
        "fxrand=f(xrand)\n",
        "CheckValue = fxrand>=yrand\n",
        "Hit_or_Miss=sum(CheckValue)/N\n",
        "\n",
        "print('Hasil Approksimasi = ', Hit_or_Miss)\n",
        "print('Error = ', abs(teta-Hit_or_Miss))\n",
        "print('Standar Error = ', np.sqrt(teta*(1-teta)/N))\n",
        "print('Aproksimasi Error = ', np.sqrt(Hit_or_Miss*(1-Hit_or_Miss)/N))"
      ],
      "metadata": {
        "id": "3G5WDDPPBw7c",
        "colab": {
          "base_uri": "https://localhost:8080/"
        },
        "outputId": "f4123d01-760c-43a1-9b67-5f61215c03c4"
      },
      "execution_count": null,
      "outputs": [
        {
          "output_type": "stream",
          "name": "stdout",
          "text": [
            "$$$ Hit or Miss Monte Carlo $$$\n",
            "Hasil Approksimasi =  0.43\n",
            "Error =  0.01200000000000001\n",
            "Standar Error =  0.049323016939356014\n",
            "Aproksimasi Error =  0.04950757517794625\n"
          ]
        }
      ]
    },
    {
      "cell_type": "markdown",
      "source": [
        "\n",
        "Referensi kode:https://github.com/pat-hanbury/MonteCarloTutorial/blob/master/MonteCarloExample.ipynb\n",
        "\n",
        "Telah dijalankan Monte Carlo simulation dengan metode hit-or-miss dan Crude Monte Carlo. Dari hasil yang didapatkan, dapat dilihat bahwa Crude Monte Carlo mendapatkan hasil yang lebih mendekati hasil eksak dari integral f(x). Hal ini sejalan dengan tren umum bahwa Crude Monte Carlo lebih tepat dalam melakukan aproksimasi dibandingkan dengan metode hit-or-miss"
      ],
      "metadata": {
        "id": "Vy7858MtgsFO"
      }
    }
  ]
}